{
  "nbformat": 4,
  "nbformat_minor": 0,
  "metadata": {
    "colab": {
      "name": "Lab09.ipynb",
      "provenance": [],
      "authorship_tag": "ABX9TyMobNIz/70Vwm5pUC1rQKij"
    },
    "kernelspec": {
      "name": "python3",
      "display_name": "Python 3"
    },
    "language_info": {
      "name": "python"
    }
  },
  "cells": [
    {
      "cell_type": "markdown",
      "metadata": {
        "id": "_0oKkwLC2SBh"
      },
      "source": [
        "#Lab 09-1 ReLU"
      ]
    },
    {
      "cell_type": "markdown",
      "metadata": {
        "id": "TiBzIuOa6ohD"
      },
      "source": [
        "**Problem of Sigmoid**\n",
        ": Vanishing Gradient"
      ]
    },
    {
      "cell_type": "markdown",
      "metadata": {
        "id": "k_5_bLt27Jh7"
      },
      "source": [
        "## Relu\n",
        "$$ f(x)= max(0, x) $$"
      ]
    },
    {
      "cell_type": "code",
      "metadata": {
        "id": "uMY_aRPt7uw1"
      },
      "source": [
        "import torch\n",
        "import torchvision.transforms as transforms\n",
        "import torchvision.datasets as dsets\n",
        "import random\n",
        "import matplotlib.pyplot as plt"
      ],
      "execution_count": 2,
      "outputs": []
    },
    {
      "cell_type": "code",
      "metadata": {
        "id": "-ugLq7G881rf"
      },
      "source": [
        "device = 'cuda' if torch.cuda.is_available() else 'cpu'"
      ],
      "execution_count": 3,
      "outputs": []
    },
    {
      "cell_type": "code",
      "metadata": {
        "id": "eELv9d9w2Pyi"
      },
      "source": [
        "mnist_train = dsets.MNIST(root = \"MNIST_data/\", train = True, transform = transforms.ToTensor(), download = True)\n",
        "mnist_test = dsets.MNIST(root = \"MNIST_data/\", train = False, transform = transforms.ToTensor(), download = True)\n"
      ],
      "execution_count": 5,
      "outputs": []
    },
    {
      "cell_type": "markdown",
      "metadata": {
        "id": "K1gvOriW-sDW"
      },
      "source": [
        "## MNIST softmax"
      ]
    },
    {
      "cell_type": "code",
      "metadata": {
        "id": "u9ck6b3_8V_x"
      },
      "source": [
        "# MNIST_softmax\n",
        "\n",
        "#parameters\n",
        "learning_rate = 0.001\n",
        "training_epochs = 15\n",
        "batch_size = 100\n",
        "\n",
        "data_loader = torch.utils.data.DataLoader(dataset = mnist_train, batch_size = batch_size, shuffle = True, drop_last = True)\n",
        "\n",
        "# MNIST data image of shape 28 * 28 = 784\n",
        "linear = torch.nn.Linear(784, 10, bias = True).to(device)\n",
        "\n",
        "# Initialization\n",
        "torch.nn.init.normal_(linear.weight)\n",
        "\n",
        "# define cost/loss & optimizer\n",
        "criterion = torch.nn.CrossEntropyLoss().to(device) # softmax is internally computed\n",
        "optimizer = torch.optim.Adam(linear.parameters(), lr = learning_rate)"
      ],
      "execution_count": null,
      "outputs": []
    },
    {
      "cell_type": "code",
      "metadata": {
        "colab": {
          "base_uri": "https://localhost:8080/"
        },
        "id": "BbdVc6a29OxD",
        "outputId": "716db313-9bf0-4d5d-8e6b-3fcd7ab3b203"
      },
      "source": [
        "# Train\n",
        "total_batch = len(data_loader)\n",
        "for epoch in range(training_epochs):\n",
        "  avg_cost = 0\n",
        "\n",
        "  for X, Y in data_loader: # X : image, Y : label\n",
        "    # reshape input image into [batch_size by 784]\n",
        "    # label is not one-hot encoded\n",
        "    X = X.view(-1, 28 * 28).to(device)\n",
        "    optimizer.zero_grad()\n",
        "    hypothesis = linear(X)\n",
        "    cost = criterion(hypothesis, Y)\n",
        "    cost.backward()\n",
        "    optimizer.step()\n",
        "    avg_cost += cost / total_batch\n",
        "\n",
        "  print(\"Epoch: \", \"%04d\" % (epoch + 1), \"cost =\" \"{:.9f}\".format(avg_cost))"
      ],
      "execution_count": null,
      "outputs": [
        {
          "output_type": "stream",
          "text": [
            "Epoch:  0001 cost =12.044902802\n",
            "Epoch:  0002 cost =12.044907570\n",
            "Epoch:  0003 cost =12.044901848\n",
            "Epoch:  0004 cost =12.044903755\n",
            "Epoch:  0005 cost =12.044906616\n",
            "Epoch:  0006 cost =12.044898987\n",
            "Epoch:  0007 cost =12.044904709\n",
            "Epoch:  0008 cost =12.044906616\n",
            "Epoch:  0009 cost =12.044907570\n",
            "Epoch:  0010 cost =12.044906616\n",
            "Epoch:  0011 cost =12.044895172\n",
            "Epoch:  0012 cost =12.044915199\n",
            "Epoch:  0013 cost =12.044904709\n",
            "Epoch:  0014 cost =12.044903755\n",
            "Epoch:  0015 cost =12.044909477\n"
          ],
          "name": "stdout"
        }
      ]
    },
    {
      "cell_type": "markdown",
      "metadata": {
        "id": "AmABG1hi-uCu"
      },
      "source": [
        "## MNIST nn"
      ]
    },
    {
      "cell_type": "code",
      "metadata": {
        "id": "FZwyhsjQ-iv7"
      },
      "source": [
        "# parameters\n",
        "learning_rate = 0.001\n",
        "trainig_epochs = 15\n",
        "batch_size = 100\n",
        "\n",
        "# MNIST data image of shape 28 * 28 = 784\n",
        "linear1 = torch.nn.Linear(784, 256, bias = True).to(device)\n",
        "linear2 = torch.nn.Linear(256, 256, bias = True).to(device)\n",
        "linear3 = torch.nn.Linear(784, 10, bias = True).to(device)\n",
        "relu = torch.nn.ReLU()\n",
        "\n",
        "# Initialization\n",
        "torch.nn.init.normal_(linear1.weight)\n",
        "torch.nn.init.normal_(linear2.weight)\n",
        "torch.nn.init.normal_(linear3.weight)\n",
        "\n",
        "# model\n",
        "model = torch.nn.Sequential(linear1, relu, linear2, relu, linear3).to(device) # the last loss is CrossEntropyLoss\n",
        "\n",
        "# define cost/loss & optimizer\n",
        "criterion = torch.nn.CrossEntropyLoss().to(device) # softmax is internally computed\n",
        "optimizer = torch.optim.Adam(model.parameters(), lr = learning_rate)"
      ],
      "execution_count": null,
      "outputs": []
    },
    {
      "cell_type": "code",
      "metadata": {
        "colab": {
          "base_uri": "https://localhost:8080/"
        },
        "id": "E_bx6En1_XoM",
        "outputId": "0b263cb8-be33-4722-8142-0b7a6a12b599"
      },
      "source": [
        "# Train\n",
        "total_batch = len(data_loader)\n",
        "for epoch in range(training_epochs):\n",
        "  avg_cost = 0\n",
        "\n",
        "  for X, Y in data_loader: # X : image, Y : label\n",
        "    # reshape input image into [batch_size by 784]\n",
        "    # label is not one-hot encoded\n",
        "    X = X.view(-1, 28 * 28).to(device)\n",
        "    optimizer.zero_grad()\n",
        "    hypothesis = linear(X)\n",
        "    cost = criterion(hypothesis, Y)\n",
        "    cost.backward()\n",
        "    optimizer.step()\n",
        "    avg_cost += cost / total_batch\n",
        "\n",
        "  print(\"Epoch: \", \"%04d\" % (epoch + 1), \"cost =\" \"{:.9f}\".format(avg_cost))"
      ],
      "execution_count": null,
      "outputs": [
        {
          "output_type": "stream",
          "text": [
            "Epoch:  0001 cost =12.044907570\n",
            "Epoch:  0002 cost =12.044907570\n",
            "Epoch:  0003 cost =12.044903755\n",
            "Epoch:  0004 cost =12.044905663\n",
            "Epoch:  0005 cost =12.044903755\n",
            "Epoch:  0006 cost =12.044904709\n",
            "Epoch:  0007 cost =12.044897079\n",
            "Epoch:  0008 cost =12.044908524\n",
            "Epoch:  0009 cost =12.044903755\n",
            "Epoch:  0010 cost =12.044905663\n",
            "Epoch:  0011 cost =12.044901848\n",
            "Epoch:  0012 cost =12.044907570\n",
            "Epoch:  0013 cost =12.044901848\n",
            "Epoch:  0014 cost =12.044903755\n",
            "Epoch:  0015 cost =12.044904709\n"
          ],
          "name": "stdout"
        }
      ]
    },
    {
      "cell_type": "markdown",
      "metadata": {
        "id": "v-tg006nBvRn"
      },
      "source": [
        "#Lab 09-2 Weight Initialization"
      ]
    },
    {
      "cell_type": "markdown",
      "metadata": {
        "id": "YMwuPU-yCQCg"
      },
      "source": [
        "**RBM**\n",
        "\n",
        "- Restricted Boltzmann Machine\n",
        "- Restricted : no connections within a layer but full connection with next layer\n",
        "- pre-trainig : add hidden layer and do RBM sequentially, similar to stack"
      ]
    },
    {
      "cell_type": "markdown",
      "metadata": {
        "id": "qT0mU0cmDK38"
      },
      "source": [
        "**Xavier**\n",
        "- Xavier Normal initialization\n",
        "$$ W \\sim N(0, Var(W))$$\n",
        "$$ Var(W) = \\sqrt{2 \\over {n_{in} + n_{out}}}$$\n",
        "\n",
        "- Xavier Uniform initialization\n",
        "$$ W \\sim U(-\\sqrt{6 \\over {n_{in} + n_{out}}}, +\\sqrt{6 \\over {n_{in} + n_{out}}}) $$"
      ]
    },
    {
      "cell_type": "markdown",
      "metadata": {
        "id": "G-6bte4_Eghw"
      },
      "source": [
        "**He**\n",
        "- He Normal initialization\n",
        "$$ W \\sim N(0, Var(W)) $$\n",
        "$$ Var(W) = \\sqrt{2 \\over n_{in}} $$\n",
        "\n",
        "- He Uniform initialization\n",
        "$$ W \\sim U(-\\sqrt{6 \\over n_{in}}, +\\sqrt{6 \\over n_{in}}) $$"
      ]
    },
    {
      "cell_type": "code",
      "metadata": {
        "id": "v2-Ud_IpAEWN"
      },
      "source": [
        "# MNIST data image of shape 28 * 28 = 784\n",
        "linear1 = torch.nn.Linear(784, 256, bias = True).to(device)\n",
        "linear2 = torch.nn.Linear(256, 256, bias = True).to(device)\n",
        "linear3 = torch.nn.Linear(784, 10, bias = True).to(device)\n",
        "relu = torch.nn.ReLU()\n",
        "\n",
        "# Initialization\n",
        "torch.nn.init.xavier_uniform_(linear1.weight)\n",
        "torch.nn.init.xavier_uniform_(linear2.weight)\n",
        "torch.nn.init.xavier_uniform_(linear3.weight)\n",
        "\n",
        "# model\n",
        "model = torch.nn.Sequential(linear1, relu, linear2, relu, linear3).to(device) # the last loss is CrossEntropyLoss\n",
        "\n",
        "# define cost/loss & optimizer\n",
        "criterion = torch.nn.CrossEntropyLoss().to(device) # softmax is internally computed\n",
        "optimizer = torch.optim.Adam(model.parameters(), lr = learning_rate)"
      ],
      "execution_count": null,
      "outputs": []
    },
    {
      "cell_type": "code",
      "metadata": {
        "colab": {
          "base_uri": "https://localhost:8080/"
        },
        "id": "7jacp2O3Fplo",
        "outputId": "418988b1-fd3a-41f1-ee06-d2fea10c6d43"
      },
      "source": [
        "# Train\n",
        "total_batch = len(data_loader)\n",
        "for epoch in range(training_epochs):\n",
        "  avg_cost = 0\n",
        "\n",
        "  for X, Y in data_loader: # X : image, Y : label\n",
        "    # reshape input image into [batch_size by 784]\n",
        "    # label is not one-hot encoded\n",
        "    X = X.view(-1, 28 * 28).to(device)\n",
        "    optimizer.zero_grad()\n",
        "    hypothesis = linear(X)\n",
        "    cost = criterion(hypothesis, Y)\n",
        "    cost.backward()\n",
        "    optimizer.step()\n",
        "    avg_cost += cost / total_batch\n",
        "\n",
        "  print(\"Epoch: \", \"%04d\" % (epoch + 1), \"cost =\" \"{:.9f}\".format(avg_cost))"
      ],
      "execution_count": null,
      "outputs": [
        {
          "output_type": "stream",
          "text": [
            "Epoch:  0001 cost =12.044906616\n",
            "Epoch:  0002 cost =12.044908524\n",
            "Epoch:  0003 cost =12.044910431\n",
            "Epoch:  0004 cost =12.044910431\n",
            "Epoch:  0005 cost =12.044898987\n",
            "Epoch:  0006 cost =12.044907570\n",
            "Epoch:  0007 cost =12.044911385\n",
            "Epoch:  0008 cost =12.044903755\n",
            "Epoch:  0009 cost =12.044911385\n",
            "Epoch:  0010 cost =12.044900894\n",
            "Epoch:  0011 cost =12.044899940\n",
            "Epoch:  0012 cost =12.044899940\n",
            "Epoch:  0013 cost =12.044902802\n",
            "Epoch:  0014 cost =12.044903755\n",
            "Epoch:  0015 cost =12.044901848\n"
          ],
          "name": "stdout"
        }
      ]
    },
    {
      "cell_type": "markdown",
      "metadata": {
        "id": "hVP5XehzFqGW"
      },
      "source": [
        "#Lab 09-3 Dropout"
      ]
    },
    {
      "cell_type": "markdown",
      "metadata": {
        "id": "YL2GyeOxF06y"
      },
      "source": [
        "**Overfitting** : the production of an analysis that corresponds too closely or exactly to a particular set of data, and may therefore fail to fit additional data or predict future observations reliably\n",
        "\n",
        "**Underfitting** : statistical model cannot adequately capture the underlying structure of the data"
      ]
    },
    {
      "cell_type": "markdown",
      "metadata": {
        "id": "2FjgGhm4F0wZ"
      },
      "source": [
        "## Dropout : Solution for Overfitting"
      ]
    },
    {
      "cell_type": "code",
      "metadata": {
        "id": "e99UpbgpJCKp"
      },
      "source": [
        "drop_prob = 0.3"
      ],
      "execution_count": null,
      "outputs": []
    },
    {
      "cell_type": "code",
      "metadata": {
        "id": "RKf3MvqgFsH-"
      },
      "source": [
        "# mnist nn dropout\n",
        "\n",
        "# nn layers\n",
        "linear1 = torch.nn.Linear(784, 512, bias = True)\n",
        "linear2 = torch.nn.Linear(512, 512, bias = True)\n",
        "linear3 = torch.nn.Linear(512, 512, bias = True)\n",
        "linear4 = torch.nn.Linear(512, 512, bias = True)\n",
        "linear5 = torch.nn.Linear(512, 10, bias = True)\n",
        "relu = torch.nn.ReLU()\n",
        "# dropout\n",
        "dropout = torch.nn.Dropout(p = drop_prob)\n",
        "\n",
        "# model\n",
        "model = torch.nn.Sequential(linear1, relu, dropout,\n",
        "                            linear2, relu, dropout,\n",
        "                            linear3, relu, dropout,\n",
        "                            linear4, relu, dropout, \n",
        "                            linear5).to(device)\n"
      ],
      "execution_count": null,
      "outputs": []
    },
    {
      "cell_type": "code",
      "metadata": {
        "id": "IT5hQztNJWAN"
      },
      "source": [
        " # train mode\n",
        " total_batch = len(data_loader)\n",
        " model.train() # set the model to train mode (dropout = True)\n",
        "\n",
        "\n",
        " # test model and check accuracy\n",
        " with torch.no_grad():\n",
        "   model.eval() # set the model to evaluation mode (dropout = False)"
      ],
      "execution_count": null,
      "outputs": []
    },
    {
      "cell_type": "markdown",
      "metadata": {
        "id": "R_Pn9YR7J90w"
      },
      "source": [
        "#Lab 09-4 Batch Normalization"
      ]
    },
    {
      "cell_type": "markdown",
      "metadata": {
        "id": "baXEuAKuKLUE"
      },
      "source": [
        "Gradient vanishing / exploding problem\n",
        "\n",
        "**Solution**\n",
        "- Change activation function\n",
        "- Careful initialization\n",
        "- Small learning rate ( especially for exploding )\n",
        "- **Batch Normalization**"
      ]
    },
    {
      "cell_type": "markdown",
      "metadata": {
        "id": "c7vMpsZlLoyJ"
      },
      "source": [
        "Internal Covariate Shift\n",
        "- different data distribution between Train set and Test set\n",
        "\n",
        "\n",
        "Batch normalization can solve internal covariate shift\n",
        "\n",
        "normalize -> scale and shift\n",
        "\n",
        "1. compute $\\mu , \\sigma$ from $x$\n",
        "2. $\\hat{x}$ <- normalized weight\n",
        "3. $y_i$ <- scale and shift $\\hat{x}$  with $\\beta , \\gamma$"
      ]
    },
    {
      "cell_type": "code",
      "metadata": {
        "id": "ViUBsyp9SSfS"
      },
      "source": [
        "learning_rate = 0.01\n",
        "training_epochs = 10\n",
        "batch_size = 32"
      ],
      "execution_count": 7,
      "outputs": []
    },
    {
      "cell_type": "code",
      "metadata": {
        "id": "lGKNubJwSmmO"
      },
      "source": [
        "train_loader = torch.utils.data.DataLoader(dataset = mnist_train, batch_size = batch_size, shuffle = True, drop_last = True)\n",
        "test_loader = torch.utils.data.DataLoader(dataset = mnist_test, batch_size = batch_size, shuffle = False, drop_last = True)"
      ],
      "execution_count": 8,
      "outputs": []
    },
    {
      "cell_type": "code",
      "metadata": {
        "id": "mBFxa_etJVq9"
      },
      "source": [
        "# mnist batch norm\n",
        "# nn layers\n",
        "linear1 = torch.nn.Linear(784, 32, bias = True)\n",
        "linear2 = torch.nn.Linear(32, 32, bias= True)\n",
        "linear3 = torch.nn.Linear(32, 10, bias = True)\n",
        "relu = torch.nn.ReLU()\n",
        "bn1 = torch.nn.BatchNorm1d(32)\n",
        "bn2 = torch.nn.BatchNorm1d(32)\n",
        "\n",
        "nn_linear1 = torch.nn.Linear(784, 32, bias = True)\n",
        "nn_linear2 = torch.nn.Linear(32, 32, bias = True)\n",
        "nn_linear3 = torch.nn.Linear(32, 10, bias = True)\n",
        "\n",
        "# model\n",
        "\n",
        "# Use batch normalization\n",
        "bn_model = torch.nn.Sequential(linear1, bn1, relu,\n",
        "                               linear2, bn2, relu,\n",
        "                               linear3).to(device)\n",
        "# Not use batch normalization\n",
        "nn_model = torch.nn.Sequential(nn_linear1, relu,\n",
        "                               nn_linear2, relu,\n",
        "                               nn_linear3).to(device)"
      ],
      "execution_count": 10,
      "outputs": []
    },
    {
      "cell_type": "code",
      "metadata": {
        "id": "24pkM1xsUG9Z"
      },
      "source": [
        "# define cost / loss & optimizer\n",
        "criterion = torch.nn.CrossEntropyLoss().to(device)\n",
        "bn_optimizer = torch.optim.Adam(bn_model.parameters(), lr = learning_rate)\n",
        "nn_optimizer = torch.optim.Adam(nn_model.parameters(), lr = learning_rate)"
      ],
      "execution_count": 13,
      "outputs": []
    },
    {
      "cell_type": "code",
      "metadata": {
        "colab": {
          "base_uri": "https://localhost:8080/"
        },
        "id": "xtgL9VaNQvYY",
        "outputId": "fdd61592-b1d4-4bf5-e507-65fcca6bc986"
      },
      "source": [
        "# train\n",
        "train_losses = []\n",
        "train_accs = []\n",
        "\n",
        "valid_losses = []\n",
        "valid_accs = []\n",
        "\n",
        "train_total_batch = len(train_loader)\n",
        "test_total_batch = len(test_loader)\n",
        "for epoch in range(training_epochs):\n",
        "  bn_model.train() # set the model to train mode\n",
        "\n",
        "  for X, Y in train_loader:\n",
        "    # reshape input image into [batch_size by 784]\n",
        "    # label is not one-hot encoded\n",
        "    X = X.view(-1, 28 * 28).to(device)\n",
        "    Y = Y.to(device)\n",
        "\n",
        "    bn_optimizer.zero_grad()\n",
        "    bn_prediction = bn_model(X)\n",
        "    bn_loss = criterion(bn_prediction, Y)\n",
        "    bn_loss.backward()\n",
        "    bn_optimizer.step()\n",
        "\n",
        "    nn_optimizer.zero_grad()\n",
        "    nn_prediction = nn_model(X)\n",
        "    nn_loss = criterion(nn_prediction, Y)\n",
        "    nn_loss.backward()\n",
        "    nn_optimizer.step()\n",
        "  \n",
        "  with torch.no_grad():\n",
        "    bn_model.eval() # set the model to evaluation mode\n",
        "\n",
        "    # test the model using train sets\n",
        "    bn_loss, nn_loss, bn_acc, nn_acc = 0, 0, 0, 0\n",
        "    for i, (X, Y) in enumerate(train_loader):\n",
        "      X = X.view(-1, 28 * 28).to(device)\n",
        "      Y = Y.to(device)\n",
        "\n",
        "      bn_prediction = bn_model(X)\n",
        "      bn_correct_prediction = torch.argmax(bn_prediction, 1) == Y\n",
        "      bn_loss += criterion(bn_prediction, Y)\n",
        "      bn_acc += bn_correct_prediction.float().mean()\n",
        "\n",
        "      nn_prediction = nn_model(X)\n",
        "      nn_correct_prediction = torch.argmax(nn_prediction, 1) == Y\n",
        "      nn_loss += criterion(nn_prediction, Y)\n",
        "      nn_acc += nn_correct_prediction.float().mean()\n",
        "\n",
        "    bn_loss, nn_loss = bn_loss / train_total_batch, nn_loss / train_total_batch \n",
        "    bn_acc, nn_acc = bn_acc / train_total_batch, nn_acc / train_total_batch\n",
        "\n",
        "    # save train losses / accs\n",
        "    train_losses.append([bn_loss, nn_loss])\n",
        "    train_accs.append([bn_acc, nn_acc])\n",
        "\n",
        "    print('[Epoch %d-TRAIN] Batchnorm Loss(Acc) : bn_loss : %.5f (bn_acc: %.2f) vs No Batchnorm Loss(Acc) : nn_loss : %.5f (nn_acc : %.2f)' % (\n",
        "        (epoch + 1), bn_loss.item(), bn_acc.item(), nn_loss.item(), nn_acc.item()))\n",
        "    bn_loss, nn_loss, bn_acc, nn_acc = 0, 0, 0, 0\n",
        "    \n",
        "    for i, (X, Y) in enumerate(test_loader):\n",
        "      X = X.view(-1, 28 * 28).to(device)\n",
        "      Y = Y.to(device)\n",
        "\n",
        "      bn_prediction = bn_model(X)\n",
        "      bn_correct_prediction = torch.argmax(bn_prediction, 1) == Y\n",
        "      bn_loss += criterion(bn_prediction, Y)\n",
        "      bn_acc += bn_correct_prediction.float().mean()\n",
        "\n",
        "      nn_prediction = nn_model(X)\n",
        "      nn_correct_prediction = torch.argmax(nn_prediction, 1) == Y\n",
        "      nn_loss += criterion(nn_prediction, Y)\n",
        "      nn_acc += nn_correct_prediction.float().mean()\n",
        "\n",
        "    bn_loss, nn_loss = bn_loss / test_total_batch, nn_loss / test_total_batch \n",
        "    bn_acc, nn_acc = bn_acc / test_total_batch, nn_acc / test_total_batch\n",
        "\n",
        "    # save train losses / accs\n",
        "    valid_losses.append([bn_loss, nn_loss])\n",
        "    valid_accs.append([bn_acc, nn_acc])\n",
        "\n",
        "    print('[Epoch %d-VALID] Batchnorm Loss(Acc) : bn_loss : %.5f (bn_acc: %.2f) vs No Batchnorm Loss(Acc) : nn_loss : %.5f (nn_acc : %.2f)' % (\n",
        "        (epoch + 1), bn_loss.item(), bn_acc.item(), nn_loss.item(), nn_acc.item()))\n",
        "    print()\n",
        "\n",
        "print('Learning finished')"
      ],
      "execution_count": 18,
      "outputs": [
        {
          "output_type": "stream",
          "text": [
            "[Epoch 1-TRAIN] Batchnorm Loss(Acc) : bn_loss : 0.04293 (bn_acc: 0.99) vs No Batchnorm Loss(Acc) : nn_loss : 0.09399 (nn_acc : 0.97)\n",
            "[Epoch 1-VALID] Batchnorm Loss(Acc) : bn_loss : 0.09292 (bn_acc: 0.97) vs No Batchnorm Loss(Acc) : nn_loss : 0.18714 (nn_acc : 0.96)\n",
            "\n",
            "[Epoch 2-TRAIN] Batchnorm Loss(Acc) : bn_loss : 0.04063 (bn_acc: 0.99) vs No Batchnorm Loss(Acc) : nn_loss : 0.11040 (nn_acc : 0.97)\n",
            "[Epoch 2-VALID] Batchnorm Loss(Acc) : bn_loss : 0.08986 (bn_acc: 0.97) vs No Batchnorm Loss(Acc) : nn_loss : 0.22114 (nn_acc : 0.96)\n",
            "\n",
            "[Epoch 3-TRAIN] Batchnorm Loss(Acc) : bn_loss : 0.04372 (bn_acc: 0.99) vs No Batchnorm Loss(Acc) : nn_loss : 0.08805 (nn_acc : 0.98)\n",
            "[Epoch 3-VALID] Batchnorm Loss(Acc) : bn_loss : 0.09367 (bn_acc: 0.97) vs No Batchnorm Loss(Acc) : nn_loss : 0.18178 (nn_acc : 0.96)\n",
            "\n",
            "[Epoch 4-TRAIN] Batchnorm Loss(Acc) : bn_loss : 0.03707 (bn_acc: 0.99) vs No Batchnorm Loss(Acc) : nn_loss : 0.12569 (nn_acc : 0.97)\n",
            "[Epoch 4-VALID] Batchnorm Loss(Acc) : bn_loss : 0.08496 (bn_acc: 0.97) vs No Batchnorm Loss(Acc) : nn_loss : 0.22943 (nn_acc : 0.95)\n",
            "\n",
            "[Epoch 5-TRAIN] Batchnorm Loss(Acc) : bn_loss : 0.03674 (bn_acc: 0.99) vs No Batchnorm Loss(Acc) : nn_loss : 0.09817 (nn_acc : 0.97)\n",
            "[Epoch 5-VALID] Batchnorm Loss(Acc) : bn_loss : 0.08134 (bn_acc: 0.98) vs No Batchnorm Loss(Acc) : nn_loss : 0.20466 (nn_acc : 0.96)\n",
            "\n",
            "[Epoch 6-TRAIN] Batchnorm Loss(Acc) : bn_loss : 0.03564 (bn_acc: 0.99) vs No Batchnorm Loss(Acc) : nn_loss : 0.10127 (nn_acc : 0.97)\n",
            "[Epoch 6-VALID] Batchnorm Loss(Acc) : bn_loss : 0.08680 (bn_acc: 0.98) vs No Batchnorm Loss(Acc) : nn_loss : 0.20575 (nn_acc : 0.96)\n",
            "\n",
            "[Epoch 7-TRAIN] Batchnorm Loss(Acc) : bn_loss : 0.03396 (bn_acc: 0.99) vs No Batchnorm Loss(Acc) : nn_loss : 0.10454 (nn_acc : 0.97)\n",
            "[Epoch 7-VALID] Batchnorm Loss(Acc) : bn_loss : 0.08670 (bn_acc: 0.97) vs No Batchnorm Loss(Acc) : nn_loss : 0.23507 (nn_acc : 0.96)\n",
            "\n",
            "[Epoch 8-TRAIN] Batchnorm Loss(Acc) : bn_loss : 0.03969 (bn_acc: 0.99) vs No Batchnorm Loss(Acc) : nn_loss : 0.08898 (nn_acc : 0.98)\n",
            "[Epoch 8-VALID] Batchnorm Loss(Acc) : bn_loss : 0.09721 (bn_acc: 0.97) vs No Batchnorm Loss(Acc) : nn_loss : 0.19397 (nn_acc : 0.96)\n",
            "\n",
            "[Epoch 9-TRAIN] Batchnorm Loss(Acc) : bn_loss : 0.03563 (bn_acc: 0.99) vs No Batchnorm Loss(Acc) : nn_loss : 0.10660 (nn_acc : 0.97)\n",
            "[Epoch 9-VALID] Batchnorm Loss(Acc) : bn_loss : 0.09397 (bn_acc: 0.97) vs No Batchnorm Loss(Acc) : nn_loss : 0.22718 (nn_acc : 0.96)\n",
            "\n",
            "[Epoch 10-TRAIN] Batchnorm Loss(Acc) : bn_loss : 0.03577 (bn_acc: 0.99) vs No Batchnorm Loss(Acc) : nn_loss : 0.09623 (nn_acc : 0.98)\n",
            "[Epoch 10-VALID] Batchnorm Loss(Acc) : bn_loss : 0.09402 (bn_acc: 0.97) vs No Batchnorm Loss(Acc) : nn_loss : 0.20527 (nn_acc : 0.96)\n",
            "\n",
            "Learning finished\n"
          ],
          "name": "stdout"
        }
      ]
    },
    {
      "cell_type": "code",
      "metadata": {
        "id": "qx-FkoJaRRUD"
      },
      "source": [
        "def plot_compare(loss_list: list, ylim = None, title = None) -> None:\n",
        "  bn = [i[0] for i in loss_list]\n",
        "  nn = [i[1] for i in loss_list]\n",
        "\n",
        "  plt.figure(figsize = (15, 10))\n",
        "  plt.plot(bn, label = 'With BN')\n",
        "  plt.plot(nn, label = 'Without BN')\n",
        "\n",
        "  if ylim:\n",
        "    plt.ylim(ylim)\n",
        "  \n",
        "  if title:\n",
        "    plt.title(title)\n",
        "  \n",
        "  plt.legend()\n",
        "  plt.grid('on')\n",
        "  plt.show()"
      ],
      "execution_count": 19,
      "outputs": []
    },
    {
      "cell_type": "code",
      "metadata": {
        "colab": {
          "base_uri": "https://localhost:8080/",
          "height": 1000
        },
        "id": "sK7IIwj7aKA7",
        "outputId": "1ef370ae-ce4f-46ab-d485-afe34ddbc03e"
      },
      "source": [
        "plot_compare(train_losses, title = 'Training Loss at Epoch')\n",
        "plot_compare(train_accs, [0, 1.0], title = 'Training Acc at Epoch')\n",
        "plot_compare(valid_losses, title = 'Validation Loss at Epoch')\n",
        "plot_compare(valid_accs, [0, 1.0], title = 'Validation Acc at Epoch')"
      ],
      "execution_count": 20,
      "outputs": [
        {
          "output_type": "display_data",
          "data": {
            "image/png": "[encoded data removed]",
            "text/plain": [
              "<Figure size 1080x720 with 1 Axes>"
            ]
          },
          "metadata": {
            "tags": [],
            "needs_background": "light"
          }
        },
        {
          "output_type": "display_data",
          "data": {
            "image/png": "[encoded data removed]",
            "text/plain": [
              "<Figure size 1080x720 with 1 Axes>"
            ]
          },
          "metadata": {
            "tags": [],
            "needs_background": "light"
          }
        },
        {
          "output_type": "display_data",
          "data": {
            "image/png": "[encoded data removed]",
            "text/plain": [
              "<Figure size 1080x720 with 1 Axes>"
            ]
          },
          "metadata": {
            "tags": [],
            "needs_background": "light"
          }
        },
        {
          "output_type": "display_data",
          "data": {
            "image/png": "[encoded data removed]",
            "text/plain": [
              "<Figure size 1080x720 with 1 Axes>"
            ]
          },
          "metadata": {
            "tags": [],
            "needs_background": "light"
          }
        }
      ]
    },
    {
      "cell_type": "code",
      "metadata": {
        "id": "Gr9sFB2_acbp"
      },
      "source": [
        ""
      ],
      "execution_count": null,
      "outputs": []
    }
  ]
}