{
  "nbformat": 4,
  "nbformat_minor": 0,
  "metadata": {
    "kernelspec": {
      "display_name": "Python 2",
      "name": "python2",
      "language": "python"
    },
    "language_info": {
      "mimetype": "text/x-python",
      "nbconvert_exporter": "python",
      "name": "python",
      "file_extension": ".py",
      "version": "2.7.6",
      "pygments_lexer": "ipython2",
      "codemirror_mode": {
        "version": 2,
        "name": "ipython"
      }
    },
    "colab": {
      "name": "softmax.ipynb",
      "provenance": [],
      "collapsed_sections": [],
      "toc_visible": true
    }
  },
  "cells": [
    {
      "cell_type": "code",
      "metadata": {
        "colab": {
          "base_uri": "https://localhost:8080/"
        },
        "id": "0bJzRCozZUyS",
        "outputId": "4de4c515-7ad9-44c1-bc1d-6072b48656ec"
      },
      "source": [
        "from google.colab import drive\n",
        "drive.mount('/content/drive')"
      ],
      "execution_count": 1,
      "outputs": [
        {
          "output_type": "stream",
          "text": [
            "Mounted at /content/drive\n"
          ],
          "name": "stdout"
        }
      ]
    },
    {
      "cell_type": "code",
      "metadata": {
        "colab": {
          "base_uri": "https://localhost:8080/"
        },
        "id": "DaT2O7GwaAsk",
        "outputId": "b207175d-eb96-4ef5-f532-982eab62b32b"
      },
      "source": [
        "!git clone https://github.com/nholmber/google-colab-cs231n.git"
      ],
      "execution_count": 2,
      "outputs": [
        {
          "output_type": "stream",
          "text": [
            "Cloning into 'google-colab-cs231n'...\n",
            "remote: Enumerating objects: 109, done.\u001b[K\n",
            "remote: Total 109 (delta 0), reused 0 (delta 0), pack-reused 109\u001b[K\n",
            "Receiving objects: 100% (109/109), 5.07 MiB | 29.67 MiB/s, done.\n",
            "Resolving deltas: 100% (54/54), done.\n"
          ],
          "name": "stdout"
        }
      ]
    },
    {
      "cell_type": "code",
      "metadata": {
        "colab": {
          "base_uri": "https://localhost:8080/"
        },
        "id": "E_Xw4eGmaDkb",
        "outputId": "e1959840-98fd-4be9-cd4b-9a5433f1c88e"
      },
      "source": [
        "%cd google-colab-cs231n/assignment1\n",
        "!pip install imageio\n",
        "%cd cs231n/datasets/\n",
        "!ls\n",
        "\n",
        "!more get_datasets.sh\n",
        "!./get_datasets.sh\n",
        "\n",
        "%cd ../..\n",
        "!ls"
      ],
      "execution_count": 3,
      "outputs": [
        {
          "output_type": "stream",
          "text": [
            "/content/google-colab-cs231n/assignment1\n",
            "Requirement already satisfied: imageio in /usr/local/lib/python2.7/dist-packages (2.4.1)\n",
            "Requirement already satisfied: futures in /usr/local/lib/python2.7/dist-packages (from imageio) (3.2.0)\n",
            "Requirement already satisfied: numpy in /usr/local/lib/python2.7/dist-packages (from imageio) (1.16.4)\n",
            "Requirement already satisfied: enum34 in /usr/local/lib/python2.7/dist-packages (from imageio) (1.1.6)\n",
            "Requirement already satisfied: pillow in /usr/local/lib/python2.7/dist-packages (from imageio) (4.3.0)\n",
            "Requirement already satisfied: olefile in /usr/local/lib/python2.7/dist-packages (from pillow->imageio) (0.46)\n",
            "/content/google-colab-cs231n/assignment1/cs231n/datasets\n",
            "get_datasets.sh\n",
            "# Get CIFAR10\n",
            "wget http://www.cs.toronto.edu/~kriz/cifar-10-python.tar.gz\n",
            "tar -xzvf cifar-10-python.tar.gz\n",
            "rm cifar-10-python.tar.gz \n",
            "--2021-05-15 05:56:55--  http://www.cs.toronto.edu/~kriz/cifar-10-python.tar.gz\n",
            "Resolving www.cs.toronto.edu (www.cs.toronto.edu)... 128.100.3.30\n",
            "Connecting to www.cs.toronto.edu (www.cs.toronto.edu)|128.100.3.30|:80... connected.\n",
            "HTTP request sent, awaiting response... 200 OK\n",
            "Length: 170498071 (163M) [application/x-gzip]\n",
            "Saving to: ‘cifar-10-python.tar.gz’\n",
            "\n",
            "cifar-10-python.tar 100%[===================>] 162.60M  74.0MB/s    in 2.2s    \n",
            "\n",
            "2021-05-15 05:56:57 (74.0 MB/s) - ‘cifar-10-python.tar.gz’ saved [170498071/170498071]\n",
            "\n",
            "cifar-10-batches-py/\n",
            "cifar-10-batches-py/data_batch_4\n",
            "cifar-10-batches-py/readme.html\n",
            "cifar-10-batches-py/test_batch\n",
            "cifar-10-batches-py/data_batch_3\n",
            "cifar-10-batches-py/batches.meta\n",
            "cifar-10-batches-py/data_batch_2\n",
            "cifar-10-batches-py/data_batch_5\n",
            "cifar-10-batches-py/data_batch_1\n",
            "/content/google-colab-cs231n/assignment1\n",
            "collectSubmission.sh  README.md\t\t    svm.ipynb\n",
            "cs231n\t\t      requirements.txt\t    two_layer_net_colab.ipynb\n",
            "features.ipynb\t      setup_googlecloud.sh  two_layer_net.ipynb\n",
            "frameworkpython       softmax.ipynb\n",
            "knn.ipynb\t      start_ipython_osx.sh\n"
          ],
          "name": "stdout"
        }
      ]
    },
    {
      "cell_type": "markdown",
      "metadata": {
        "id": "Zu9FmIlyY9b0"
      },
      "source": [
        "# Softmax exercise\n",
        "\n",
        "*Complete and hand in this completed worksheet (including its outputs and any supporting code outside of the worksheet) with your assignment submission. For more details see the [assignments page](http://vision.stanford.edu/teaching/cs231n/assignments.html) on the course website.*\n",
        "\n",
        "This exercise is analogous to the SVM exercise. You will:\n",
        "\n",
        "- implement a fully-vectorized **loss function** for the Softmax classifier\n",
        "- implement the fully-vectorized expression for its **analytic gradient**\n",
        "- **check your implementation** with numerical gradient\n",
        "- use a validation set to **tune the learning rate and regularization** strength\n",
        "- **optimize** the loss function with **SGD**\n",
        "- **visualize** the final learned weights\n"
      ]
    },
    {
      "cell_type": "code",
      "metadata": {
        "id": "pxiyeBiGY9dI"
      },
      "source": [
        "import sys, os\n",
        "import random\n",
        "import numpy as np\n",
        "from cs231n.data_utils import load_CIFAR10\n",
        "import matplotlib.pyplot as plt\n",
        "\n",
        "from __future__ import print_function\n",
        "\n",
        "%matplotlib inline\n",
        "plt.rcParams['figure.figsize'] = (10.0, 8.0) # set default size of plots\n",
        "plt.rcParams['image.interpolation'] = 'nearest'\n",
        "plt.rcParams['image.cmap'] = 'gray'\n",
        "\n",
        "# for auto-reloading extenrnal modules\n",
        "# see http://stackoverflow.com/questions/1907993/autoreload-of-modules-in-ipython\n",
        "%load_ext autoreload\n",
        "%autoreload 2"
      ],
      "execution_count": 4,
      "outputs": []
    },
    {
      "cell_type": "code",
      "metadata": {
        "colab": {
          "base_uri": "https://localhost:8080/"
        },
        "id": "O-ZPKbO_Y9dM",
        "outputId": "49e4f137-6862-4d3a-84fb-9b072b1d8b14"
      },
      "source": [
        "def get_CIFAR10_data(num_training=49000, num_validation=1000, num_test=1000, num_dev=500):\n",
        "    \"\"\"\n",
        "    Load the CIFAR-10 dataset from disk and perform preprocessing to prepare\n",
        "    it for the linear classifier. These are the same steps as we used for the\n",
        "    SVM, but condensed to a single function.  \n",
        "    \"\"\"\n",
        "    # Load the raw CIFAR-10 data\n",
        "    cifar10_dir = 'cs231n/datasets/cifar-10-batches-py'\n",
        "    X_train, y_train, X_test, y_test = load_CIFAR10(cifar10_dir)\n",
        "    \n",
        "    # subsample the data\n",
        "    mask = list(range(num_training, num_training + num_validation))\n",
        "    X_val = X_train[mask]\n",
        "    y_val = y_train[mask]\n",
        "    mask = list(range(num_training))\n",
        "    X_train = X_train[mask]\n",
        "    y_train = y_train[mask]\n",
        "    mask = list(range(num_test))\n",
        "    X_test = X_test[mask]\n",
        "    y_test = y_test[mask]\n",
        "    mask = np.random.choice(num_training, num_dev, replace=False)\n",
        "    X_dev = X_train[mask]\n",
        "    y_dev = y_train[mask]\n",
        "    \n",
        "    # Preprocessing: reshape the image data into rows\n",
        "    X_train = np.reshape(X_train, (X_train.shape[0], -1))\n",
        "    X_val = np.reshape(X_val, (X_val.shape[0], -1))\n",
        "    X_test = np.reshape(X_test, (X_test.shape[0], -1))\n",
        "    X_dev = np.reshape(X_dev, (X_dev.shape[0], -1))\n",
        "    \n",
        "    # Normalize the data: subtract the mean image\n",
        "    mean_image = np.mean(X_train, axis = 0)\n",
        "    X_train -= mean_image\n",
        "    X_val -= mean_image\n",
        "    X_test -= mean_image\n",
        "    X_dev -= mean_image\n",
        "    \n",
        "    # add bias dimension and transform into columns\n",
        "    X_train = np.hstack([X_train, np.ones((X_train.shape[0], 1))])\n",
        "    X_val = np.hstack([X_val, np.ones((X_val.shape[0], 1))])\n",
        "    X_test = np.hstack([X_test, np.ones((X_test.shape[0], 1))])\n",
        "    X_dev = np.hstack([X_dev, np.ones((X_dev.shape[0], 1))])\n",
        "    \n",
        "    return X_train, y_train, X_val, y_val, X_test, y_test, X_dev, y_dev\n",
        "\n",
        "\n",
        "# Invoke the above function to get our data.\n",
        "X_train, y_train, X_val, y_val, X_test, y_test, X_dev, y_dev = get_CIFAR10_data()\n",
        "print('Train data shape: ', X_train.shape)\n",
        "print('Train labels shape: ', y_train.shape)\n",
        "print('Validation data shape: ', X_val.shape)\n",
        "print('Validation labels shape: ', y_val.shape)\n",
        "print('Test data shape: ', X_test.shape)\n",
        "print('Test labels shape: ', y_test.shape)\n",
        "print('dev data shape: ', X_dev.shape)\n",
        "print('dev labels shape: ', y_dev.shape)"
      ],
      "execution_count": 5,
      "outputs": [
        {
          "output_type": "stream",
          "text": [
            "Train data shape:  (49000, 3073)\n",
            "Train labels shape:  (49000,)\n",
            "Validation data shape:  (1000, 3073)\n",
            "Validation labels shape:  (1000,)\n",
            "Test data shape:  (1000, 3073)\n",
            "Test labels shape:  (1000,)\n",
            "dev data shape:  (500, 3073)\n",
            "dev labels shape:  (500,)\n"
          ],
          "name": "stdout"
        }
      ]
    },
    {
      "cell_type": "markdown",
      "metadata": {
        "id": "oSepM4hSY9dQ"
      },
      "source": [
        "## Softmax Classifier\n",
        "\n",
        "Your code for this section will all be written inside **cs231n/classifiers/softmax.py**. \n"
      ]
    },
    {
      "cell_type": "code",
      "metadata": {
        "colab": {
          "base_uri": "https://localhost:8080/"
        },
        "id": "C2rWvNyeY9dR",
        "outputId": "2c32bdd5-8580-4ff5-f764-841286dece92"
      },
      "source": [
        "# First implement the naive softmax loss function with nested loops.\n",
        "# Open the file cs231n/classifiers/softmax.py and implement the\n",
        "# softmax_loss_naive function.\n",
        "sys.path.append('/content/drive/MyDrive/2021/cs231n/assignment1/cs231n/classifiers')\n",
        "from softmax import softmax_loss_naive\n",
        "import time\n",
        "\n",
        "# Generate a random softmax weight matrix and use it to compute the loss.\n",
        "W = np.random.randn(3073, 10) * 0.0001\n",
        "loss, grad = softmax_loss_naive(W, X_dev, y_dev, 0.0)\n",
        "\n",
        "# As a rough sanity check, our loss should be something close to -log(0.1).\n",
        "print('loss: %f' % loss)\n",
        "print('sanity check: %f' % (-np.log(0.1)))"
      ],
      "execution_count": 6,
      "outputs": [
        {
          "output_type": "stream",
          "text": [
            "loss: 2.375617\n",
            "sanity check: 2.302585\n"
          ],
          "name": "stdout"
        }
      ]
    },
    {
      "cell_type": "markdown",
      "metadata": {
        "id": "MuN5gN5XY9dS"
      },
      "source": [
        "## Inline Question 1:\n",
        "Why do we expect our loss to be close to -log(0.1)? Explain briefly.**\n",
        "\n",
        "**Your answer:** *Since W is generated randomly, so the probability of correct classification is 1 / 10*\n"
      ]
    },
    {
      "cell_type": "code",
      "metadata": {
        "id": "d2kAjG9mY9dT",
        "colab": {
          "base_uri": "https://localhost:8080/"
        },
        "outputId": "cf1226e0-3df7-4195-bcfb-f126c44254a1"
      },
      "source": [
        "# Complete the implementation of softmax_loss_naive and implement a (naive)\n",
        "# version of the gradient that uses nested loops.\n",
        "loss, grad = softmax_loss_naive(W, X_dev, y_dev, 0.0) \n",
        "\n",
        "# As we did for the SVM, use numeric gradient checking as a debugging tool.\n",
        "# The numeric gradient should be close to the analytic gradient.\n",
        "from cs231n.gradient_check import grad_check_sparse\n",
        "f = lambda w: softmax_loss_naive(w, X_dev, y_dev, 0.0)[0]\n",
        "grad_numerical = grad_check_sparse(f, W, grad, 10)\n",
        "\n",
        "# similar to SVM case, do another gradient check with regularization\n",
        "loss, grad = softmax_loss_naive(W, X_dev, y_dev, 5e1)\n",
        "f = lambda w: softmax_loss_naive(w, X_dev, y_dev, 5e1)[0]\n",
        "grad_numerical = grad_check_sparse(f, W, grad, 10)"
      ],
      "execution_count": 7,
      "outputs": [
        {
          "output_type": "stream",
          "text": [
            "numerical: 0.917165 analytic: 0.917165, relative error: 9.908697e-08\n",
            "numerical: 0.331111 analytic: 0.331110, relative error: 3.359007e-07\n",
            "numerical: -1.430759 analytic: -1.430759, relative error: 3.595140e-08\n",
            "numerical: -1.724406 analytic: -1.724406, relative error: 3.456640e-09\n",
            "numerical: 1.770570 analytic: 1.770570, relative error: 3.123571e-09\n",
            "numerical: -0.593539 analytic: -0.593539, relative error: 1.044079e-07\n",
            "numerical: -4.922113 analytic: -4.922113, relative error: 2.520362e-08\n",
            "numerical: 1.084736 analytic: 1.084735, relative error: 6.766586e-08\n",
            "numerical: 3.061282 analytic: 3.061282, relative error: 6.183567e-09\n",
            "numerical: 1.510182 analytic: 1.510182, relative error: 9.613304e-10\n",
            "numerical: 1.717137 analytic: 1.717137, relative error: 1.908400e-08\n",
            "numerical: 0.820314 analytic: 0.820314, relative error: 3.069776e-08\n",
            "numerical: -0.684054 analytic: -0.684054, relative error: 1.896265e-08\n",
            "numerical: 1.818994 analytic: 1.818994, relative error: 1.675583e-08\n",
            "numerical: -2.248521 analytic: -2.248521, relative error: 1.568296e-08\n",
            "numerical: -2.568819 analytic: -2.568819, relative error: 8.262648e-09\n",
            "numerical: -0.540549 analytic: -0.540549, relative error: 8.198482e-08\n",
            "numerical: 0.103022 analytic: 0.103022, relative error: 3.848570e-07\n",
            "numerical: 1.019664 analytic: 1.019664, relative error: 2.143629e-08\n",
            "numerical: -2.118736 analytic: -2.118736, relative error: 4.414150e-08\n"
          ],
          "name": "stdout"
        }
      ]
    },
    {
      "cell_type": "code",
      "metadata": {
        "id": "y_0gS6CFY9dU",
        "colab": {
          "base_uri": "https://localhost:8080/"
        },
        "outputId": "ef6c52e6-6725-41f6-b75b-29ebcc952860"
      },
      "source": [
        "# Now that we have a naive implementation of the softmax loss function and its gradient,\n",
        "# implement a vectorized version in softmax_loss_vectorized.\n",
        "# The two versions should compute the same results, but the vectorized version should be\n",
        "# much faster.\n",
        "tic = time.time()\n",
        "loss_naive, grad_naive = softmax_loss_naive(W, X_dev, y_dev, 0.000005)\n",
        "toc = time.time()\n",
        "print('naive loss: %e computed in %fs' % (loss_naive, toc - tic))\n",
        "\n",
        "sys.path.append('/content/drive/MyDrive/2021/cs231n/assignment1/cs231n/classifiers')\n",
        "from softmax import softmax_loss_vectorized\n",
        "tic = time.time()\n",
        "loss_vectorized, grad_vectorized = softmax_loss_vectorized(W, X_dev, y_dev, 0.000005)\n",
        "toc = time.time()\n",
        "print('vectorized loss: %e computed in %fs' % (loss_vectorized, toc - tic))\n",
        "\n",
        "# As we did for the SVM, we use the Frobenius norm to compare the two versions\n",
        "# of the gradient.\n",
        "grad_difference = np.linalg.norm(grad_naive - grad_vectorized, ord='fro')\n",
        "print('Loss difference: %f' % np.abs(loss_naive - loss_vectorized))\n",
        "print('Gradient difference: %f' % grad_difference)"
      ],
      "execution_count": 8,
      "outputs": [
        {
          "output_type": "stream",
          "text": [
            "naive loss: 2.375617e+00 computed in 0.106713s\n",
            "vectorized loss: 2.375617e+00 computed in 0.016830s\n",
            "Loss difference: 0.000000\n",
            "Gradient difference: 0.000000\n"
          ],
          "name": "stdout"
        }
      ]
    },
    {
      "cell_type": "code",
      "metadata": {
        "id": "7ixqbE03Y9dV",
        "colab": {
          "base_uri": "https://localhost:8080/"
        },
        "outputId": "cfd250e5-fe41-49b3-ace2-3678ea460f3b"
      },
      "source": [
        "# Use the validation set to tune hyperparameters (regularization strength and\n",
        "# learning rate). You should experiment with different ranges for the learning\n",
        "# rates and regularization strengths; if you are careful you should be able to\n",
        "# get a classification accuracy of over 0.35 on the validation set.\n",
        "from cs231n.classifiers import Softmax\n",
        "results = {}\n",
        "best_val = -1\n",
        "best_softmax = None\n",
        "learning_rates = [1e-7, 5e-7]\n",
        "regularization_strengths = [2.5e4, 5e4]\n",
        "################################################################################\n",
        "# TODO:                                                                        #\n",
        "# Use the validation set to set the learning rate and regularization strength. #\n",
        "# This should be identical to the validation that you did for the SVM; save    #\n",
        "# the best trained softmax classifer in best_softmax.                          #\n",
        "################################################################################\n",
        "def compute_accuracy(y, y_pred):\n",
        "    return np.mean(y == y_pred)\n",
        "\n",
        "for lr in learning_rates:\n",
        "  for reg in regularization_strengths:\n",
        "    print(\"****************************************\")\n",
        "    print(\"lr : %.7f, reg : %.1f\" % (lr, reg))\n",
        "    model = Softmax()\n",
        "    model.train(X_train, y_train, learning_rate = lr, reg = reg, num_iters = 1500, verbose = False)\n",
        "\n",
        "    # Accuracy\n",
        "    train_acc = compute_accuracy(y_train, model.predict(X_train))\n",
        "    val_acc = compute_accuracy(y_val, model.predict(X_val))\n",
        "    print(\"train acc: %.4f\" % train_acc)\n",
        "    print('validation acc: %.4f' %val_acc)\n",
        "\n",
        "    # store accuracy in dictionary\n",
        "    results[(lr, reg)] = (train_acc, val_acc)\n",
        "\n",
        "    # check if validation accuracy is best\n",
        "    if val_acc > best_val:\n",
        "      best_val = val_acc\n",
        "      best_softmax = model\n",
        "\n",
        "################################################################################\n",
        "#                              END OF YOUR CODE                                #\n",
        "################################################################################\n",
        "    \n",
        "# Print out results.\n",
        "for lr, reg in sorted(results):\n",
        "    train_accuracy, val_accuracy = results[(lr, reg)]\n",
        "    print('lr %e reg %e train accuracy: %f val accuracy: %f' % (\n",
        "                lr, reg, train_acc, val_acc))\n",
        "    \n",
        "print('best validation accuracy achieved during cross-validation: %f' % best_val)"
      ],
      "execution_count": 19,
      "outputs": [
        {
          "output_type": "stream",
          "text": [
            "****************************************\n",
            "lr : 0.0000001, reg : 25000.0\n",
            "train acc: 0.3261\n",
            "validation acc: 0.3430\n",
            "****************************************\n",
            "lr : 0.0000001, reg : 50000.0\n",
            "train acc: 0.3096\n",
            "validation acc: 0.3230\n",
            "****************************************\n",
            "lr : 0.0000005, reg : 25000.0\n",
            "train acc: 0.3313\n",
            "validation acc: 0.3440\n",
            "****************************************\n",
            "lr : 0.0000005, reg : 50000.0\n",
            "train acc: 0.2959\n",
            "validation acc: 0.3120\n",
            "lr 1.000000e-07 reg 2.500000e+04 train accuracy: 0.295878 val accuracy: 0.312000\n",
            "lr 1.000000e-07 reg 5.000000e+04 train accuracy: 0.295878 val accuracy: 0.312000\n",
            "lr 5.000000e-07 reg 2.500000e+04 train accuracy: 0.295878 val accuracy: 0.312000\n",
            "lr 5.000000e-07 reg 5.000000e+04 train accuracy: 0.295878 val accuracy: 0.312000\n",
            "best validation accuracy achieved during cross-validation: 0.344000\n"
          ],
          "name": "stdout"
        }
      ]
    },
    {
      "cell_type": "code",
      "metadata": {
        "id": "yvWs4tqhY9dW",
        "colab": {
          "base_uri": "https://localhost:8080/"
        },
        "outputId": "86c1caf3-3994-4d52-acd2-4eca4d77fbf2"
      },
      "source": [
        "# evaluate on test set\n",
        "# Evaluate the best softmax on test set\n",
        "y_test_pred = best_softmax.predict(X_test)\n",
        "test_accuracy = np.mean(y_test == y_test_pred)\n",
        "print('softmax on raw pixels final test set accuracy: %f' % (test_accuracy, ))"
      ],
      "execution_count": 20,
      "outputs": [
        {
          "output_type": "stream",
          "text": [
            "softmax on raw pixels final test set accuracy: 0.344000\n"
          ],
          "name": "stdout"
        }
      ]
    },
    {
      "cell_type": "code",
      "metadata": {
        "id": "2jHasY9NY9dX",
        "colab": {
          "base_uri": "https://localhost:8080/",
          "height": 397
        },
        "outputId": "7f02e06d-6079-4fe0-8337-5af19bb2322b"
      },
      "source": [
        "# Visualize the learned weights for each class\n",
        "w = best_softmax.W[:-1,:] # strip out the bias\n",
        "w = w.reshape(32, 32, 3, 10)\n",
        "\n",
        "w_min, w_max = np.min(w), np.max(w)\n",
        "\n",
        "classes = ['plane', 'car', 'bird', 'cat', 'deer', 'dog', 'frog', 'horse', 'ship', 'truck']\n",
        "for i in range(10):\n",
        "    plt.subplot(2, 5, i + 1)\n",
        "    \n",
        "    # Rescale the weights to be between 0 and 255\n",
        "    wimg = 255.0 * (w[:, :, :, i].squeeze() - w_min) / (w_max - w_min)\n",
        "    plt.imshow(wimg.astype('uint8'))\n",
        "    plt.axis('off')\n",
        "    plt.title(classes[i])"
      ],
      "execution_count": 21,
      "outputs": [
        {
          "output_type": "display_data",
          "data": {
            "image/png": "[encoded data removed]",
            "text/plain": [
              "<Figure size 720x576 with 10 Axes>"
            ]
          },
          "metadata": {
            "tags": [],
            "needs_background": "light"
          }
        }
      ]
    },
    {
      "cell_type": "code",
      "metadata": {
        "id": "gRZTUAjTpeGe"
      },
      "source": [
        ""
      ],
      "execution_count": null,
      "outputs": []
    }
  ]
}