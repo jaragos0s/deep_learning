{
  "nbformat": 4,
  "nbformat_minor": 0,
  "metadata": {
    "colab": {
      "name": "CS231n_lecture9_10.ipynb",
      "provenance": [],
      "authorship_tag": "ABX9TyNIIBYXD2YhPdjFG/ukTqEl"
    },
    "kernelspec": {
      "name": "python3",
      "display_name": "Python 3"
    },
    "language_info": {
      "name": "python"
    }
  },
  "cells": [
    {
      "cell_type": "markdown",
      "metadata": {
        "id": "8DhN9SfdrG_B"
      },
      "source": [
        "#Lecture 9 CNN Architectures"
      ]
    },
    {
      "cell_type": "markdown",
      "metadata": {
        "id": "PGKEdxkHsLtB"
      },
      "source": [
        "Pooling layer has NO parameter!"
      ]
    },
    {
      "cell_type": "markdown",
      "metadata": {
        "id": "FTdKVeyM8MKM"
      },
      "source": [
        "VGG Net: small filters -> deeper, more non-linearities and fewer parameters\n"
      ]
    },
    {
      "cell_type": "markdown",
      "metadata": {
        "id": "R08uBYk4-FzR"
      },
      "source": [
        "GoogLeNet : Inception module\n",
        "\n",
        "Use bottleneck layers"
      ]
    },
    {
      "cell_type": "markdown",
      "metadata": {
        "id": "btDT85nBHb5v"
      },
      "source": [
        "ResNet : Use network layers to fit a residual mapping instead of directly trying to fit a desired underlying mapping"
      ]
    },
    {
      "cell_type": "markdown",
      "metadata": {
        "id": "0HdwqJKJpClm"
      },
      "source": [
        "# Lecture 10 Recurrent Neural Networks"
      ]
    },
    {
      "cell_type": "markdown",
      "metadata": {
        "id": "ZwoRJPN9t9Vy"
      },
      "source": [
        "1. input / output sizes are variable\n",
        "2. Sequential works"
      ]
    },
    {
      "cell_type": "markdown",
      "metadata": {
        "id": "U1nTORu0uXGr"
      },
      "source": [
        "1. RNN read an input\n",
        "2. Update the hidden state\n",
        "3. Produce an output\n",
        "\n",
        "$$ h_t = f_W(h_{t-1}, x_t) $$\n",
        "h_t : new state,\n",
        "h_{t-1} : old state,\n",
        "\n",
        "f_W : some function with parameters W\n",
        "\n",
        "x_t : input vector at some time step \n"
      ]
    },
    {
      "cell_type": "code",
      "metadata": {
        "id": "lgNGa38CrEdK"
      },
      "source": [
        "# min-char-rnn\n",
        "\n",
        "import numpy as np\n",
        "\n",
        "# data I/O\n",
        "data = open('input.txt', 'r').read() # should be simple plain text file\n",
        "chars = list(set(data))\n",
        "data_size, vocab_size = len(data), len(chars)\n",
        "print ('data has %d characters, %d unique.' % (data_size, vocab_size))\n",
        "char_to_ix = { ch:i for i,ch in enumerate(chars) }\n",
        "ix_to_char = { i:ch for i,ch in enumerate(chars) }\n",
        "\n",
        "# hyperparameters\n",
        "hidden_size = 100 # size of hidden layer of neurons\n",
        "seq_length = 25 # number of steps to unroll the RNN for\n",
        "learning_rate = 1e-1\n",
        "\n",
        "# model parameters\n",
        "Wxh = np.random.randn(hidden_size, vocab_size)*0.01 # input to hidden\n",
        "Whh = np.random.randn(hidden_size, hidden_size)*0.01 # hidden to hidden\n",
        "Why = np.random.randn(vocab_size, hidden_size)*0.01 # hidden to output\n",
        "bh = np.zeros((hidden_size, 1)) # hidden bias\n",
        "by = np.zeros((vocab_size, 1)) # output bias\n",
        "\n",
        "def lossFun(inputs, targets, hprev):\n",
        "  \"\"\"\n",
        "  inputs,targets are both list of integers.\n",
        "  hprev is Hx1 array of initial hidden state\n",
        "  returns the loss, gradients on model parameters, and last hidden state\n",
        "  \"\"\"\n",
        "  xs, hs, ys, ps = {}, {}, {}, {}\n",
        "  hs[-1] = np.copy(hprev)\n",
        "  loss = 0\n",
        "  # forward pass\n",
        "  for t in xrange(len(inputs)):\n",
        "    xs[t] = np.zeros((vocab_size,1)) # encode in 1-of-k representation\n",
        "    xs[t][inputs[t]] = 1\n",
        "    hs[t] = np.tanh(np.dot(Wxh, xs[t]) + np.dot(Whh, hs[t-1]) + bh) # hidden state\n",
        "    ys[t] = np.dot(Why, hs[t]) + by # unnormalized log probabilities for next chars\n",
        "    ps[t] = np.exp(ys[t]) / np.sum(np.exp(ys[t])) # probabilities for next chars\n",
        "    loss += -np.log(ps[t][targets[t],0]) # softmax (cross-entropy loss)\n",
        "  # backward pass: compute gradients going backwards\n",
        "  dWxh, dWhh, dWhy = np.zeros_like(Wxh), np.zeros_like(Whh), np.zeros_like(Why)\n",
        "  dbh, dby = np.zeros_like(bh), np.zeros_like(by)\n",
        "  dhnext = np.zeros_like(hs[0])\n",
        "  for t in reversed(xrange(len(inputs))):\n",
        "    dy = np.copy(ps[t])\n",
        "    dy[targets[t]] -= 1 # backprop into y. see http://cs231n.github.io/neural-networks-case-study/#grad if confused here\n",
        "    dWhy += np.dot(dy, hs[t].T)\n",
        "    dby += dy\n",
        "    dh = np.dot(Why.T, dy) + dhnext # backprop into h\n",
        "    dhraw = (1 - hs[t] * hs[t]) * dh # backprop through tanh nonlinearity\n",
        "    dbh += dhraw\n",
        "    dWxh += np.dot(dhraw, xs[t].T)\n",
        "    dWhh += np.dot(dhraw, hs[t-1].T)\n",
        "    dhnext = np.dot(Whh.T, dhraw)\n",
        "  for dparam in [dWxh, dWhh, dWhy, dbh, dby]:\n",
        "    np.clip(dparam, -5, 5, out=dparam) # clip to mitigate exploding gradients\n",
        "  return loss, dWxh, dWhh, dWhy, dbh, dby, hs[len(inputs)-1]\n",
        "\n",
        "def sample(h, seed_ix, n):\n",
        "  \"\"\" \n",
        "  sample a sequence of integers from the model \n",
        "  h is memory state, seed_ix is seed letter for first time step\n",
        "  \"\"\"\n",
        "  x = np.zeros((vocab_size, 1))\n",
        "  x[seed_ix] = 1\n",
        "  ixes = []\n",
        "  for t in xrange(n):\n",
        "    h = np.tanh(np.dot(Wxh, x) + np.dot(Whh, h) + bh)\n",
        "    y = np.dot(Why, h) + by\n",
        "    p = np.exp(y) / np.sum(np.exp(y))\n",
        "    ix = np.random.choice(range(vocab_size), p=p.ravel())\n",
        "    x = np.zeros((vocab_size, 1))\n",
        "    x[ix] = 1\n",
        "    ixes.append(ix)\n",
        "  return ixes\n",
        "\n",
        "n, p = 0, 0\n",
        "mWxh, mWhh, mWhy = np.zeros_like(Wxh), np.zeros_like(Whh), np.zeros_like(Why)\n",
        "mbh, mby = np.zeros_like(bh), np.zeros_like(by) # memory variables for Adagrad\n",
        "smooth_loss = -np.log(1.0/vocab_size)*seq_length # loss at iteration 0\n",
        "while True:\n",
        "  # prepare inputs (we're sweeping from left to right in steps seq_length long)\n",
        "  if p+seq_length+1 >= len(data) or n == 0: \n",
        "    hprev = np.zeros((hidden_size,1)) # reset RNN memory\n",
        "    p = 0 # go from start of data\n",
        "  inputs = [char_to_ix[ch] for ch in data[p:p+seq_length]]\n",
        "  targets = [char_to_ix[ch] for ch in data[p+1:p+seq_length+1]]\n",
        "\n",
        "  # sample from the model now and then\n",
        "  if n % 100 == 0:\n",
        "    sample_ix = sample(hprev, inputs[0], 200)\n",
        "    txt = ''.join(ix_to_char[ix] for ix in sample_ix)\n",
        "    print ('----\\n %s \\n----' % (txt, ))\n",
        "\n",
        "  # forward seq_length characters through the net and fetch gradient\n",
        "  loss, dWxh, dWhh, dWhy, dbh, dby, hprev = lossFun(inputs, targets, hprev)\n",
        "  smooth_loss = smooth_loss * 0.999 + loss * 0.001\n",
        "  if n % 100 == 0: print ('iter %d, loss: %f' % (n, smooth_loss) )# print progress\n",
        "  \n",
        "  # perform parameter update with Adagrad\n",
        "  for param, dparam, mem in zip([Wxh, Whh, Why, bh, by], \n",
        "                                [dWxh, dWhh, dWhy, dbh, dby], \n",
        "                                [mWxh, mWhh, mWhy, mbh, mby]):\n",
        "    mem += dparam * dparam\n",
        "    param += -learning_rate * dparam / np.sqrt(mem + 1e-8) # adagrad update\n",
        "\n",
        "  p += seq_length # move data pointer\n",
        "  n += 1 # iteration counter "
      ],
      "execution_count": null,
      "outputs": []
    },
    {
      "cell_type": "markdown",
      "metadata": {
        "id": "_Yw_K-CB2IWu"
      },
      "source": [
        "## Attention"
      ]
    },
    {
      "cell_type": "markdown",
      "metadata": {
        "id": "1_EkPfC62MKW"
      },
      "source": [
        "Using CNN, product grid of vector"
      ]
    },
    {
      "cell_type": "markdown",
      "metadata": {
        "id": "e4DLnLNS4ioR"
      },
      "source": [
        "## Vanilla RNN Gradient Flow\n",
        "- Largest singular value > 1 : Exploding gradients problem\n",
        "\n",
        "-> Gradient clipping : Scale gradient if its norm is too big\n",
        "\n",
        "- Largest singular value < 1 : Vanishing gradients problem\n",
        "\n",
        "-> LSTM(Long Short Term Memory)"
      ]
    },
    {
      "cell_type": "markdown",
      "metadata": {
        "id": "Fp_-KQ5y4-y6"
      },
      "source": [
        "## LSTM\n",
        "\n",
        "f : forget gate\n",
        "\n",
        "i : input gate\n",
        "\n",
        "g : gate gate\n",
        "\n",
        "o : output gate\n",
        "\n",
        "$$ f_t = \\sigma(W_{xh_f}x_t + W_{hh_f}h_{t-1} + b_{h_f}) $$\n",
        "$$ i_t = \\sigma(W_{xh_i}x_t + W_{hh_i}h_{t-1} + b_{h_i}) $$\n",
        "$$ o_t = \\sigma(W_{xh_o}x_t + W_{hh_o}h_{t-1} + b_{h_o}) $$\n",
        "$$ g_t = tanh(W_{xh_g}x_t + W_{hh_g}h_{t-1} + b_{h_g}) $$\n",
        "$$ c_t = f_t ⊙ c_{t-1} + i_t ⊙ g_t $$\n",
        "$$ h_t = o_t ⊙ tanh(c_t) $$"
      ]
    },
    {
      "cell_type": "code",
      "metadata": {
        "id": "dSUWGrQqzkLC"
      },
      "source": [
        ""
      ],
      "execution_count": null,
      "outputs": []
    }
  ]
}