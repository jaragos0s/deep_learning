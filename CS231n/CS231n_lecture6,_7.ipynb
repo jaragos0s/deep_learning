{
  "nbformat": 4,
  "nbformat_minor": 0,
  "metadata": {
    "colab": {
      "name": "CS231n_lecture6, 7.ipynb",
      "provenance": [],
      "collapsed_sections": [],
      "authorship_tag": "ABX9TyNDF7s2PhJU3zDkze2FYX3S"
    },
    "kernelspec": {
      "name": "python3",
      "display_name": "Python 3"
    },
    "language_info": {
      "name": "python"
    }
  },
  "cells": [
    {
      "cell_type": "markdown",
      "metadata": {
        "id": "XOzyNUOnFe8o"
      },
      "source": [
        "#Lecture6. Training Neural Networks I"
      ]
    },
    {
      "cell_type": "markdown",
      "metadata": {
        "id": "AF-lvP3Jqa-w"
      },
      "source": [
        "1. If all the weights are 0, then all neurons will do same operation. Same output, same gradient\n",
        "-> Initialize weights to small random numbers"
      ]
    },
    {
      "cell_type": "code",
      "metadata": {
        "id": "IFvXgodjFY9r"
      },
      "source": [
        "  import numpy as np\n",
        "  import sys\n",
        "  \n",
        "\n",
        "  import matplotlib.pyplot as plt\n",
        "  %matplotlib inline "
      ],
      "execution_count": null,
      "outputs": []
    },
    {
      "cell_type": "code",
      "metadata": {
        "id": "7lAqV4tUrKIl"
      },
      "source": [
        "# assume some unit gaussian 10-D input data\n",
        "D = np.random.randn(1000, 500)\n",
        "hidden_layer_sizes = [500] * 10\n",
        "nonliniearities = ['tanh'] * len(hidden_layer_sizes)"
      ],
      "execution_count": null,
      "outputs": []
    },
    {
      "cell_type": "code",
      "metadata": {
        "id": "S9TbwimxrZW3"
      },
      "source": [
        "act = {'relu':lambda x: np.maximum(0, x), 'tanh': lambda x: np.tanh(x)}\n",
        "Hs = {}\n",
        "for i in range(len(hidden_layer_sizes)):\n",
        "  X = D if i == 0 else Hs[i-1] # input at this layer\n",
        "  fan_in = X.shape[1]\n",
        "  fan_out = hidden_layer_sizes[i]\n",
        "  W = np.random.randn(fan_in, fan_out) *0.01 # layer initialization\n",
        "# if we multiply 1.0 instead of 0.01, saturation happens and gradients will be 0\n",
        "  H = np.dot(X, W) # matrix multiplication\n",
        "  H = act[nonliniearities[i]](H) #nonlinearity\n",
        "  Hs[i] = H # cache result on this layer"
      ],
      "execution_count": null,
      "outputs": []
    },
    {
      "cell_type": "code",
      "metadata": {
        "colab": {
          "base_uri": "https://localhost:8080/",
          "height": 722
        },
        "id": "BGr3TvkssIIB",
        "outputId": "7d98c0d3-6184-4582-d70f-7b9fd167d784"
      },
      "source": [
        "# look at distributions at each layer\n",
        "print ('input layer had mean %f and std %f' % (np.mean(D), np.std(D)))\n",
        "layer_means = [np.mean(H) for i, H in iter(Hs.items())]\n",
        "layer_stds = [np.std(H) for i, H in iter(Hs.items())]\n",
        "for i, H in iter(Hs.items()):\n",
        "  print('hidden layer %d had mean %f and std %f' % (i+1, layer_means[i], layer_stds[i]))\n",
        "\n",
        "# plot the means and standard deviations\n",
        "plt.figure()\n",
        "plt.subplot(121)\n",
        "plt.plot(list(Hs.keys()), layer_means, 'b-')\n",
        "\n",
        "plt.title('layer mean')\n",
        "plt.subplot(122)\n",
        "plt.plot(list(Hs.keys()), layer_stds, 'or-')\n",
        "plt.title('layer std')\n",
        "\n",
        "# plot the raw distributions\n",
        "plt.figure()\n",
        "for i, H in Hs.items():\n",
        "  plt.subplot(1, len(Hs), i+1)\n",
        "  plt.hist(H.ravel(), 30, range = (-1, 1))\n"
      ],
      "execution_count": null,
      "outputs": [
        {
          "output_type": "stream",
          "text": [
            "input layer had mean -0.000362 and std 1.001613\n",
            "hidden layer 1 had mean 0.000208 and std 0.214362\n",
            "hidden layer 2 had mean -0.000039 and std 0.047824\n",
            "hidden layer 3 had mean 0.000006 and std 0.010709\n",
            "hidden layer 4 had mean -0.000000 and std 0.002389\n",
            "hidden layer 5 had mean 0.000001 and std 0.000535\n",
            "hidden layer 6 had mean 0.000000 and std 0.000120\n",
            "hidden layer 7 had mean -0.000000 and std 0.000027\n",
            "hidden layer 8 had mean -0.000000 and std 0.000006\n",
            "hidden layer 9 had mean -0.000000 and std 0.000001\n",
            "hidden layer 10 had mean 0.000000 and std 0.000000\n"
          ],
          "name": "stdout"
        },
        {
          "output_type": "display_data",
          "data": {
            "image/png": "[encoded data removed]",
            "text/plain": [
              "<Figure size 432x288 with 2 Axes>"
            ]
          },
          "metadata": {
            "tags": [],
            "needs_background": "light"
          }
        },
        {
          "output_type": "display_data",
          "data": {
            "image/png": "[encoded data removed]",
            "text/plain": [
              "<Figure size 432x288 with 10 Axes>"
            ]
          },
          "metadata": {
            "tags": [],
            "needs_background": "light"
          }
        }
      ]
    },
    {
      "cell_type": "markdown",
      "metadata": {
        "id": "0bGF3awg0lQL"
      },
      "source": [
        "## Batch Normilization"
      ]
    },
    {
      "cell_type": "code",
      "metadata": {
        "id": "FZ6LDxMMszii"
      },
      "source": [
        "def init_two_layer_model(input_size, hidden_size, output_size):\n",
        "  # initialize a model\n",
        "  model = {}\n",
        "  model['W1'] = 0.0001 * np.random.randn(input_size, hidden_size)\n",
        "  model['b1'] = np.zeros(hidden_size)\n",
        "  model['W2'] = 0.0001 * np.random.randn(hidden_size, output_size)m"
      ],
      "execution_count": null,
      "outputs": []
    },
    {
      "cell_type": "markdown",
      "metadata": {
        "id": "LcEnK-oBcKBy"
      },
      "source": [
        "## Optimizer"
      ]
    },
    {
      "cell_type": "code",
      "metadata": {
        "id": "NOjzv-y7O7IL"
      },
      "source": [
        "# SGD\n",
        "while True:\n",
        "  dx = compute_gradient(x)\n",
        "  x += learning_rate * dx"
      ],
      "execution_count": null,
      "outputs": []
    },
    {
      "cell_type": "code",
      "metadata": {
        "id": "_reJgnHpPC6e"
      },
      "source": [
        "# SGD + Momentum (not only considering the direction of gradient, but also considering the velocity)\n",
        "vx = 0\n",
        "while True:\n",
        "  dx = compute_gradient(x)\n",
        "  vx = rho * x + dx # rho : the friction\n",
        "  d += learning_rate * vx"
      ],
      "execution_count": null,
      "outputs": []
    },
    {
      "cell_type": "code",
      "metadata": {
        "id": "ikqfOLSqQRqt"
      },
      "source": [
        "# Nesterov Momentum\n",
        "dx = compute_gradient(x)\n",
        "old_v = v\n",
        "v = rho * v -learning_rate * dx\n",
        "x += -rho * old_v + (1 + rho) * v"
      ],
      "execution_count": null,
      "outputs": []
    },
    {
      "cell_type": "code",
      "metadata": {
        "id": "SYiHEGtVQExy"
      },
      "source": [
        "# AdaGrad\n",
        "grad_squared = 0\n",
        "while True:\n",
        "  dx = compute_gradient(x)\n",
        "  grad_squered += dx * dx\n",
        "  x -= learning_rate * dx / (np.sqrt(grad_squared) + 1e-7)"
      ],
      "execution_count": null,
      "outputs": []
    },
    {
      "cell_type": "code",
      "metadata": {
        "id": "H82rcJYac-bz"
      },
      "source": [
        "# RMS Prop\n",
        "grad_squared = 0\n",
        "while True:\n",
        "  dx = compute_gradient(x)\n",
        "  grad_squared = decay_rate * grad_squared + (1 - decay_rate) * dx * dx\n",
        "  x -= learning_rate * dx / (np.sqrt(grad_squared) + 1e-7)"
      ],
      "execution_count": null,
      "outputs": []
    },
    {
      "cell_type": "code",
      "metadata": {
        "id": "P8ZZs6fZeUR_"
      },
      "source": [
        "# Adam\n",
        "first_moment = 0\n",
        "second_moment = 0 \n",
        "while True:\n",
        "  dx = compute_gradient(x)\n",
        "  # like Momentum\n",
        "  first_moment = beta1 * first_moment + (1 - beta1) * dx\n",
        "  # like AdaGrad / RMSProp\n",
        "  second_moment = beta2 * second_moment + (1 - beta2) * dx * dx\n",
        "  # bias correction\n",
        "  first_unbias = first_moment / (1 - beta1 ** t)\n",
        "  second_unbias = second_moment / (1 - beta2 ** t)\n",
        "  # like AdaGrad / RMSProp\n",
        "  x -= learning_rate * first_moment / (np.sqrt(second_moment) + 1e-7)"
      ],
      "execution_count": null,
      "outputs": []
    },
    {
      "cell_type": "markdown",
      "metadata": {
        "id": "S4VwUPxQg14q"
      },
      "source": [
        "Setting Learning rate decay\n",
        "1. Try with no decay and see what happens\n",
        "2. Watch the loss curve and see where you thing you might need decay"
      ]
    },
    {
      "cell_type": "markdown",
      "metadata": {
        "id": "ZBSJxcJDjhBt"
      },
      "source": [
        "## Dropout , a method of regularization\n",
        "In each forward pass, randomly set som neurons to zero Probability of dropping is a hyperparameter"
      ]
    },
    {
      "cell_type": "code",
      "metadata": {
        "id": "CyGZR3k1kFlJ"
      },
      "source": [
        "# forward pass with a 3-layer network using dropout\n",
        "p = 0.5 # probability of keeping a unit active. higher = less dropout\n",
        "\n",
        "def train_step(X):\n",
        "\n",
        "  # forward pass for example 3-layer neural network\n",
        "  H1 = np.maximum(0, np.dot(W1, X) + b1)\n",
        "  U1 = np.random.rand(*H1.shape) < p # first dropout mask\n",
        "  H1 *= U1 # drop\n",
        "  H2 = np.maximum(0, np.dot(W2, H1) + b2)\n",
        "  U2 = np.random.rand(*H2.shape) < p # second dropout mask\n",
        "  H2 *= U2 # drop\n",
        "  out = np.dot(W3, H2) + b3 "
      ],
      "execution_count": null,
      "outputs": []
    },
    {
      "cell_type": "code",
      "metadata": {
        "id": "xWZ62KsultbJ"
      },
      "source": [
        "def predict(X):\n",
        "  # ensembled forward pass\n",
        "  H1 = np.maximum(0, np.dot(W1, X) + b1) * p\n",
        "  H2 = np.maximum(0, np.dot(W2, H1) + b2) * p\n",
        "  out = np.dot(W3, H2) + b3"
      ],
      "execution_count": null,
      "outputs": []
    },
    {
      "cell_type": "code",
      "metadata": {
        "id": "mZR5_rHRmHWt"
      },
      "source": [
        "# Inverted Dropout\n",
        "\n",
        "p = 0.5 # probability of keeping a unit active. higher = less dropout\n",
        "\n",
        "def train_step(X):\n",
        "\n",
        "  # forward pass for example 3-layer neural network\n",
        "  H1 = np.maximum(0, np.dot(W1, X) + b1)\n",
        "  U1 = (np.random.rand(*H1.shape) < p) / p # first dropout mask\n",
        "  H1 *= U1 # drop\n",
        "  H2 = np.maximum(0, np.dot(W2, H1) + b2)\n",
        "  U2 = (np.random.rand(*H2.shape) < p) / p # second dropout mask\n",
        "  H2 *= U2 # drop\n",
        "  out = np.dot(W3, H2) + b3 \n",
        "\n",
        "def predict(X):\n",
        "  # ensembled forward pass\n",
        "  H1 = np.maximum(0, np.dot(W1, X) + b1) # no scaling necessary\n",
        "  H2 = np.maximum(0, np.dot(W2, H1) + b2)\n",
        "  out = np.dot(W3, H2) + b3"
      ],
      "execution_count": null,
      "outputs": []
    },
    {
      "cell_type": "markdown",
      "metadata": {
        "id": "tJ5su_wloNeY"
      },
      "source": [
        "Transfer Learning\n",
        " : Using pretrained model. \n",
        "Just modify final layer to learning one's purpose"
      ]
    },
    {
      "cell_type": "code",
      "metadata": {
        "id": "w1LI9lgMrxRB"
      },
      "source": [
        ""
      ],
      "execution_count": null,
      "outputs": []
    }
  ]
}