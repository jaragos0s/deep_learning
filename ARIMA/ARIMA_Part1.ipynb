{
  "nbformat": 4,
  "nbformat_minor": 0,
  "metadata": {
    "colab": {
      "name": "ARIMA_Part1.ipynb",
      "provenance": [],
      "authorship_tag": "ABX9TyPqPloXJBUDJdcq48bKesn2"
    },
    "kernelspec": {
      "name": "python3",
      "display_name": "Python 3"
    },
    "language_info": {
      "name": "python"
    }
  },
  "cells": [
    {
      "cell_type": "markdown",
      "metadata": {
        "id": "VfoigUXjlHEE"
      },
      "source": [
        "2021.06.23. Wed\n",
        "\n",
        "인공지능공학연구소 소장 김성범 교수님 ARIMA 모델 개요 - Part 1 \n",
        "\n",
        "---\n",
        "\n"
      ]
    },
    {
      "cell_type": "markdown",
      "metadata": {
        "id": "5NwasJxrTRoL"
      },
      "source": [
        "stationary process(정상 프로세스)\n",
        ": 시간에 관계 없이 **평균**과 **분산**이 일정한 시계열 데이터\n",
        "\n",
        "-> autocorrelation function을 통해 정상성 확인 가능"
      ]
    },
    {
      "cell_type": "markdown",
      "metadata": {
        "id": "iajPkEWQT0JC"
      },
      "source": [
        "# Autoregressive (AR) Models\n"
      ]
    },
    {
      "cell_type": "markdown",
      "metadata": {
        "id": "pPBUn5d1VNKj"
      },
      "source": [
        "dependent variable $y_t$를 independent variables $x_1, x_2, ..., x_p$로 표현\n",
        "\n",
        "$$ y_t = \\phi_0 + \\phi_1 y_{t - 1} + \\phi_2 y_{t-2} + ... + \\phi_p y_{t-p} + \\epsilon_t $$\n",
        "\n",
        "이 때 $y_{t-1}$은 $y_t$ 의 한 시점 이전의 모델이고, $y_{t-1} = x_1, y_{t-2} = x_2, ... $\n",
        "\n",
        "- 현재 값이 과거 시계열 데이터 값, 오차에만 의존한다는 가정\n",
        "\n",
        "\n"
      ]
    },
    {
      "cell_type": "markdown",
      "metadata": {
        "id": "iKcnndNpW3gB"
      },
      "source": [
        "여기서는 일반적인 회귀 모델의 최소 제곱법을 이용한 parameter 추정을 할 수 없다. "
      ]
    },
    {
      "cell_type": "markdown",
      "metadata": {
        "id": "RrhfSjw8gddX"
      },
      "source": [
        "# Moving Average (MA) Models"
      ]
    },
    {
      "cell_type": "markdown",
      "metadata": {
        "id": "zSUh0HuGgg7l"
      },
      "source": [
        "t 시점의 데이터를 $\\epsilon$으로 추정을 하겠다 \n",
        "- t시점의 데이터를 t 시점의 error, 과거의 error로 표현\n",
        "\n",
        "$$y_t = \\theta_0 + \\epsilon_t + \\theta_1 \\epsilon_{t-1} + \\theta_2 \\epsilon_{t-2} + ... + \\theta_q \\epsilon_{t-q} $$"
      ]
    },
    {
      "cell_type": "markdown",
      "metadata": {
        "id": "Zp8MQIHthNVm"
      },
      "source": [
        "# Autoregressive and Moving Average (ARMA)"
      ]
    },
    {
      "cell_type": "markdown",
      "metadata": {
        "id": "I-dZClZwhTG1"
      },
      "source": [
        "AR + MA\n",
        "\n",
        "$$ y_t = \\phi_0 + \\phi_1 y_{t - 1} + \\phi_2 y_{t-2} + ... + \\phi_p y_{t-p} + \\epsilon_t  + \\theta_1 \\epsilon_{t-1} + \\theta_2 \\epsilon_{t-2} + ... + \\theta_q \\epsilon_{t-q} $$"
      ]
    },
    {
      "cell_type": "markdown",
      "metadata": {
        "id": "tVH97fbGh7tF"
      },
      "source": [
        "AR, MA, ARMA 는 데이터가 stationary 해야함. \n",
        "\n",
        "그러나 일상생활의 데이터는 non-stationary 데이터가 더 많음 \n",
        "\n",
        "-> stationary로 바꾼 후 모델링하면 된다.\n",
        "\n",
        " -> differencing!"
      ]
    },
    {
      "cell_type": "markdown",
      "metadata": {
        "id": "ghCRjCbRhnuN"
      },
      "source": [
        "# Autoregressive Integrated Moving Average (ARIMA)"
      ]
    },
    {
      "cell_type": "markdown",
      "metadata": {
        "id": "TX1eUdgTiXyl"
      },
      "source": [
        "integrated : differencing을 몇 번 했는지 나타냄\n",
        "\n",
        "**ARIMA(p, d, q)**\n",
        "\n",
        "p : AR model의 independent variable의 개수\n",
        "d : 몇 번 differencing 했는지\n",
        "q : MA model에서 center의 개수 (parameter 개수)\n",
        "\n"
      ]
    },
    {
      "cell_type": "markdown",
      "metadata": {
        "id": "LcVLS-uai3S1"
      },
      "source": [
        "**Differencing**\n",
        "\n",
        "- 데이터를 n번 shifting할 때 원본 데이터와 shifting 된 데이터의 차이\n",
        "\n",
        "- 현 시점 데이터에서 n 시점 이전의 데이터를 뺀 것\n",
        "\n",
        "original data가 nonstationary일 때 differencing을 이용해 stationary하게 바꾼다.\n",
        "\n",
        "\n",
        "1차 차분 : $Y_t = X_t - X_{t-1} = \\triangledown X_t $\n",
        "\n",
        "2차 차분 : $Y^{(2)}_t = X_t = X_{t-2} = \\triangledown ^{(2)} X_t $\n",
        "  "
      ]
    },
    {
      "cell_type": "markdown",
      "metadata": {
        "id": "tf5dRGQHkZfd"
      },
      "source": [
        "*대부분의 데이터는 2차 차분으로 충분히 stationary하게 된다*"
      ]
    }
  ]
}