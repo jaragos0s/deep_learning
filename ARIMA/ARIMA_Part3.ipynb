{
  "nbformat": 4,
  "nbformat_minor": 0,
  "metadata": {
    "colab": {
      "name": "ARIMA_Part3.ipynb",
      "provenance": [],
      "authorship_tag": "ABX9TyM+GLz9SZB5zVe7VeHS45T6"
    },
    "kernelspec": {
      "name": "python3",
      "display_name": "Python 3"
    },
    "language_info": {
      "name": "python"
    }
  },
  "cells": [
    {
      "cell_type": "markdown",
      "metadata": {
        "id": "wWXR9L_p44Ry"
      },
      "source": [
        "2021.06.24. 인공지능공학연구소 소장 김성범 교수님 ARIMA 모델 - Part3"
      ]
    },
    {
      "cell_type": "markdown",
      "metadata": {
        "id": "8NqLwUw_qlCM"
      },
      "source": [
        "$x_1, x_2, ..., x_t $ : a sequence of a random variable\n",
        "\n",
        "$X$: random variable\n",
        "\n",
        "$F_x(x) = P(X \\le x) $ : cdf\n",
        "\n",
        "$E(X) = \\mu_X$\n",
        "\n",
        "$V(X) = E[(X - \\mu_X)^2] = \\sigma_X^2$\n",
        "\n",
        "$ Cov(X_1, X_2) = E[(X_1 - \\mu_1)(X_2 - \\mu_2)] = \\sigma_{X_1X_2} $\n",
        "\n",
        "$ Cov(X_1, X_1) = V(X_1) = \\sigma_{X_1}^2$\n",
        "\n",
        "$Corr(X_1, X_2) =  {Cov(X_1, X_2) \\over \\sqrt{V(X_1), V(X_2)}} = {\\sigma_{X_1 X_2} \\over \\sqrt {{\\sigma_{X_1}^2} {\\sigma_{X_2}^2}}} =  {\\sigma_{X_1 X_2} \\over \\sigma_{X_1} \\sigma_{X_2}}$\n",
        "\n"
      ]
    },
    {
      "cell_type": "markdown",
      "metadata": {
        "id": "q_qWN0y4uEBp"
      },
      "source": [
        "$X, Y$ : independent\n",
        "\n",
        "$E[XY] = E[X]E[Y]$\n",
        "\n",
        "$Cov(X,Y) = 0$\n",
        "\n",
        "$\\begin{matrix} Cov(X+2, Y) &=& Cov(X, Y) + Cov(2, Y) \\\\ &=& Cov(X, Y) + E[2Y] - E[2] E(Y) \\\\ &=& Cov(X, Y) + 2E(Y) - 2E(Y) \\\\ &=& Cov(X, Y) \\end{matrix} $\n",
        "\n",
        "$Cov(X, Y) = Cov(Y, X) $\n",
        "\n",
        "$Cov(aX, Y) = aCov(X, Y) $\n"
      ]
    },
    {
      "cell_type": "markdown",
      "metadata": {
        "id": "Ake67biIzIKS"
      },
      "source": [
        "# ARIMA 모델에서 자주 쓰이는 함수\n",
        "\n"
      ]
    },
    {
      "cell_type": "markdown",
      "metadata": {
        "id": "2dC0yAJ55A1W"
      },
      "source": [
        "## Autocovariance"
      ]
    },
    {
      "cell_type": "markdown",
      "metadata": {
        "id": "f_VntwVe5EP-"
      },
      "source": [
        "자기 자신과 한 시점 / 두 시점 전의 covariance\n",
        "\n",
        "$$Cov(X_t, X_{t + h}) = \\gamma_x(h)$$"
      ]
    },
    {
      "cell_type": "markdown",
      "metadata": {
        "id": "5Ss17cZh5eOf"
      },
      "source": [
        "1. $\\gamma_X(0) = Cov(X_t, X_t) = V(X_t) = \\sigma_{X_t}^2$\n",
        "\n",
        "2. $\\begin{matrix} \\gamma_X(-h) &=& Cov(X_t, X_{t-h}) \\\\ &=& Cov(X_{t-h}, X_t) \\\\ &=& Cov(X_{t-h}, X_{(t-h)+h}) \\\\ &=& \\gamma_X(h) \\end{matrix} $\n",
        "\n",
        "3. $\\gamma_X(h) = \\gamma_X(-h)$ for all $h$ (symmetry)"
      ]
    },
    {
      "cell_type": "markdown",
      "metadata": {
        "id": "PtQj6RB87BAX"
      },
      "source": [
        "##Autocorrelation $\\rho$"
      ]
    },
    {
      "cell_type": "markdown",
      "metadata": {
        "id": "YnHrqmau7M2p"
      },
      "source": [
        " $\\rho_X(h) =  {Cov(X_t, X_{t+h}) \\over \\sqrt {V(X_t) V(X_{t+h})}} =  {\\gamma_X(h) \\over \\sqrt {\\gamma_X(0) \\gamma_X(0)}} = {\\gamma_X(h) \\over \\gamma_X(0)}$\n",
        "\n",
        "\n",
        " 1. $\\rho_X(0) = {\\gamma_X(0) \\over \\gamma_X(0)} = 1  -> Corr(X_t, X_t) $\n",
        "\n",
        " 2. $\\rho_X(-h) = \\rho_X(h)$ for all $h$\n",
        "\n",
        " 3. $ -1 \\le \\rho_X(h) \\le 1$\n",
        "\n",
        " "
      ]
    },
    {
      "cell_type": "markdown",
      "metadata": {
        "id": "BVEAjRGv8nDv"
      },
      "source": [
        "## White Noise $a_t, WN(a_t)$"
      ]
    },
    {
      "cell_type": "markdown",
      "metadata": {
        "id": "0Gvd-Mvl9HvH"
      },
      "source": [
        "$a_t$의 특성\n",
        "1. $E(a_t) = 0, \\forall t$\n",
        "2. $V(a_t) = \\sigma_a^2, \\forall t$\n",
        "3. $Corr(a_t, a_s) = 0, t \\neq s$ 시점이 다른 확률변수는 서로 독립이다.\n",
        "4. $\\gamma_a(h) = Cov(a_t, a_{t+h}) = \\begin{cases} \\sigma_a^2, \\mbox{h = 0} \\\\ 0, \\mbox{h \\neq 0 } \\end{cases}$\n",
        "\n",
        "5. $\\rho_a(h) = \\begin{cases} 1, \\mbox{h = 0} \\\\ 0, \\mbox{h \\neq 0} \\end{cases}$\n",
        " "
      ]
    },
    {
      "cell_type": "markdown",
      "metadata": {
        "id": "TjCflauGEd9E"
      },
      "source": [
        " ## ARIMA에서 stationary 의 특성"
      ]
    },
    {
      "cell_type": "markdown",
      "metadata": {
        "id": "Jbg5PwQjFQAA"
      },
      "source": [
        "ARIMA에서는 데이터가 stationary 해야한다.\n",
        "\n",
        "이 때 *stationary의 특성은**\n",
        "\n",
        "$X_1, X_2, ..., X_t$\n",
        "\n",
        "$(X_t) = \\mu, V(X_t) = \\sigma_X^2$ for $t = 1, 2, ... $\n",
        "\n",
        "-> constant probability distribution over time\n",
        "\n",
        "-> stationary time series (stationary process)\n"
      ]
    },
    {
      "cell_type": "markdown",
      "metadata": {
        "id": "pblZwCELIHVp"
      },
      "source": [
        "## Example"
      ]
    },
    {
      "cell_type": "markdown",
      "metadata": {
        "id": "r3Rjv8FzIHOZ"
      },
      "source": [
        "Suppose $z_t = \\beta_0 + \\beta_1 t + xt, $ where $x_t$ is stationary.\n",
        "\n",
        "Show that $z_t$ is NOT stationary but $\\triangledown z_t = z_t - z_{t-1}$ is stationary."
      ]
    },
    {
      "cell_type": "markdown",
      "metadata": {
        "id": "K1IHv7V-Fr0X"
      },
      "source": [
        "Solution)\n",
        "\n",
        "1. $z_t$ is not stationary.\n",
        "\n",
        "$E(x_t) = \\mu, V(x_t) = \\sigma_x^2$\n",
        "\n",
        "<br/>$E(z_t) = E(\\beta_0 + \\beta_1 t + x_t) = \\beta_0 + \\beta_1 t + E(x_t) = \\beta_0 + \\beta_1t + \\mu$\n",
        "<br/><br/> $\\begin{matrix}E(z_t - z_{t-1}) &=& E(\\beta_0 + \\beta_1 t + x_t - \\beta_0 - \\beta_1 (t-1) - x_{t-1}) \\\\ &=& E(x_t + \\beta_1 - x_{t-1}) \\\\ &=& E(x_t) + \\beta_1 - E(x_{t-1}) \\\\ &=& \\mu + \\beta_1 - \\mu \\\\ &=& \\beta_1 \\end{matrix}$\n",
        "<br/><br/>NOT constant probability distribution over time<br/> \n",
        "2. $\\triangledown z_t$ is stationary.\n",
        "\n",
        "$\\begin{matrix} Cov(\\triangledown z_t, \\triangledown z_{t-h}) &=& Cov(z_t - z_{t-1}, z_{t-h} - z_{t-h-1}) \\\\ &=& Cov(z_t, z_{t-h}) - Cov(z_t, z_{t-h-1}) - Cov(z_{t-1}, z_{t-h-1}) \\\\ &=& \\gamma_z(h) - \\gamma_z(h+1) - \\gamma_z(h-1) + \\gamma_z(h) \\\\ &=& 2\\gamma_z(h) - \\gamma_z(h+1) - \\gamma_z(h-1) \\end {matrix}$ \n",
        "<br/> -> independent of t (t에 대한 함수가 아님)"
      ]
    }
  ]
}