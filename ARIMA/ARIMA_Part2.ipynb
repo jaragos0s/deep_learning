{
  "nbformat": 4,
  "nbformat_minor": 0,
  "metadata": {
    "colab": {
      "name": "ARIMA_Part2.ipynb",
      "provenance": [],
      "authorship_tag": "ABX9TyMmSOD8YoiFZHEAT93mQI/P"
    },
    "kernelspec": {
      "name": "python3",
      "display_name": "Python 3"
    },
    "language_info": {
      "name": "python"
    }
  },
  "cells": [
    {
      "cell_type": "markdown",
      "metadata": {
        "id": "fZViALAks4-4"
      },
      "source": [
        "2021.06.23. \n",
        "인공지능공학연구소 소장 김성범교수님 ARIMA 모델 개요 - Part2"
      ]
    },
    {
      "cell_type": "markdown",
      "metadata": {
        "id": "xDSwSIDBV9yf"
      },
      "source": [
        "#ARIMA Part2"
      ]
    },
    {
      "cell_type": "markdown",
      "metadata": {
        "id": "4PGBihOJWAaY"
      },
      "source": [
        "1. Data Preprocessing (transformation, differencing) -> stationary 하게!\n",
        "\n",
        "2. Identify Model to be Tentatively Entertained -> 시도해볼만한 모델 찾기\n",
        "\n",
        "3. Estimate Parameters\n",
        "\n",
        "4. Diagnosis Check\n",
        "   괜찮으면 5번으로, 아니면 2번으로\n",
        "\n",
        "5. 예측에 모델 사용"
      ]
    },
    {
      "cell_type": "markdown",
      "metadata": {
        "id": "9amvsXzPazg9"
      },
      "source": [
        "## Differencing\n",
        "$$ Y_t = \\triangle X_t = X_t - X_{t-1} $$\n"
      ]
    },
    {
      "cell_type": "markdown",
      "metadata": {
        "id": "jguWqt4LWd0i"
      },
      "source": [
        "Autocorrelation Function plot 할 때 lag 1, 2 기준으로 확 ACF가 천천히 떨어지면 nonstationary, 확 떨어지면 stationary"
      ]
    },
    {
      "cell_type": "markdown",
      "metadata": {
        "id": "vbWjkuvzbWVN"
      },
      "source": [
        "## Identification ARIMA Model\n",
        "\n",
        "1. Graphical Method : 주관적\n",
        "\n",
        "ACF랑 Partial ACF 모델 생성해서 어떤 모델로 할지 결정한다.\n",
        "\n"
      ]
    },
    {
      "cell_type": "markdown",
      "metadata": {
        "id": "NPewxIWOdh-w"
      },
      "source": [
        "|  <center>Model</center> |  <center>ACF</center> |  <center>Partial ACF</center> |\n",
        "|:--------|:--------:|--------:|\n",
        "|**MA(q)** | <center>Cut off after lag q <br/>(q 시차 이후 0으로 절단) </center> |*Die out <br/> (지수적으로 감소,<br/> 소멸하는 sine함수 형태)* |\n",
        "|**AR(p)** | <center>Die out<br/>(지수적으로 감소,<br/> 소멸하는 sine함수 형태) </center> |*Cut off after lag p <br/> (p 시차 이후 0으로 절단)* |\n",
        "|**ARMA(p, q)** | <center>Die out<br/> (시차 q-p 이후 부터 소멸) </center> |*Die out <br/> (시차 q-p 이후 부터 소멸)* |"
      ]
    },
    {
      "cell_type": "markdown",
      "metadata": {
        "id": "eF9feE4Ye4iS"
      },
      "source": [
        "cut off : lag 이후 훅 떨어지는 것\n"
      ]
    },
    {
      "cell_type": "markdown",
      "metadata": {
        "id": "kD--6fREr-iW"
      },
      "source": [
        "p : 1 ~ 20\n",
        "d : 1, 2\n",
        "q : 1 ~ 20\n",
        "돌려보고 AIC 제일 작은 것을 결정하는 것도 하나의 방법"
      ]
    },
    {
      "cell_type": "markdown",
      "metadata": {
        "id": "1GC8MzDYsIP1"
      },
      "source": [
        "## Seasonal ARIMA Model"
      ]
    },
    {
      "cell_type": "markdown",
      "metadata": {
        "id": "CCg-IzixsMJ2"
      },
      "source": [
        "SARIMA : 각 계절에 따른 독립적인 ARIMA 모델이 합쳐져 있는 모형\n",
        "\n",
        "- 기존 ARIMA(p, d, q) 모형에 계절성 주기(P, D, Q)를 나타내는 s가 필요 -> ARIMA(p, d, q)(P, D, Q)s 로 표기\n",
        "- s : 월별 계절성을 나타내는 경우 12, 분기별 계절성을 나타내는 경우 4\n"
      ]
    },
    {
      "cell_type": "markdown",
      "metadata": {
        "id": "piCwUsBgsvma"
      },
      "source": [
        "**ARIMA(p, d, q)(P, D, Q)s**\n",
        "\n",
        "$$\\phi_p(B)\\Phi_p(B^S)(1-B)^d(1-B^S)^Dy_t = \\theta_q(B)\\Theta_Q(B^S)a_t $$"
      ]
    }
  ]
}